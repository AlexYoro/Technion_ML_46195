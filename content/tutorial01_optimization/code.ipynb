{
 "cells": [
  {
   "cell_type": "markdown",
   "source": [
    "<a href=\"./code.ipynb\" class=\"link-button\">Download</a>\n",
    "\n",
    "<center><h1>\n",
    "תרגול 1 - בעיות אופטימיזציה וגזירה וקטורית\n",
    "</h1></center>"
   ],
   "metadata": {}
  },
  {
   "cell_type": "markdown",
   "source": [
    "## Setup"
   ],
   "metadata": {}
  },
  {
   "cell_type": "code",
   "source": [
    "## Importing packages\n",
    "import os # A build in package for interacting with the OS. For example to create a folder.\n",
    "import numpy as np  # Numerical package (mainly multi-dimensional arrays and linear algebra)\n",
    "import pandas as pd  # A package for working with data frames\n",
    "import matplotlib.pyplot as plt  # A plotting package\n",
    "import imageio  # A package to read and write image (is used here to save gif images)\n",
    "\n",
    "## Setup matplotlib to output figures into the notebook\n",
    "## - To make the figures interactive (zoomable, tooltip, etc.) use \"\"%matplotlib notebook\" instead\n",
    "%matplotlib inline\n",
    "\n",
    "## Setting some nice matplotlib defaults\n",
    "plt.rcParams['figure.figsize'] = (4.5, 4.5)  # Set default plot's sizes\n",
    "plt.rcParams['figure.dpi'] = 120  # Set default plot's dpi (increase fonts' size)\n",
    "plt.rcParams['axes.grid'] = True  # Show grid by default in figures\n",
    "\n",
    "## Auxiliary function for prining equations, pandas tables and images in cells output\n",
    "from IPython.core.display import display, HTML, Latex\n",
    "\n",
    "## Create output folder\n",
    "if not os.path.isdir('./output'):\n",
    "    os.mkdir('./output')"
   ],
   "metadata": {},
   "execution_count": null,
   "outputs": []
  },
  {
   "cell_type": "markdown",
   "source": [
    "## Circle fitting"
   ],
   "metadata": {}
  },
  {
   "cell_type": "markdown",
   "source": [
    "### Generating points"
   ],
   "metadata": {}
  },
  {
   "cell_type": "code",
   "source": [
    "rand_gen = np.random.RandomState(1)\n",
    "gt_center = np.array((3, 1))\n",
    "gt_radius = 2\n",
    "noise_std = 0.2\n",
    "\n",
    "n_point = 30\n",
    "points_angles = rand_gen.rand(n_point) * 2 * np.pi  # Draw random angles\n",
    "points = np.stack((np.cos(points_angles), np.sin(points_angles)), axis=1)  # Generate points on the unit curcle  \n",
    "points *= gt_radius  # Scale the circle by gt_raduis\n",
    "points += gt_center[None, :]  # Move the corcle to the correct location\n",
    "points += rand_gen.randn(n_point, 2) * noise_std  # Add random Gaussian noise"
   ],
   "metadata": {},
   "execution_count": null,
   "outputs": []
  },
  {
   "cell_type": "markdown",
   "source": [
    "### Ploting the points"
   ],
   "metadata": {}
  },
  {
   "cell_type": "code",
   "source": [
    "angles = np.linspace(0, 2 * np.pi, 1000)\n",
    "unit_circle = np.stack((np.cos(angles), np.sin(angles)), axis=1)\n",
    "gt_circle = unit_circle * gt_radius\n",
    "gt_circle += gt_center[None, :]\n",
    "\n",
    "\n",
    "fig, ax = plt.subplots()\n",
    "ax.set_xlabel('$e^{(1)}$')\n",
    "ax.set_ylabel('$e^{(2)}$')\n",
    "ax.plot(gt_circle[:, 0], gt_circle[:, 1], 'k', alpha=0.2, label='GT Circle')\n",
    "ax.plot(points[:, 0], points[:, 1], '.', label='Observed points')\n",
    "ax.set_xlim(-6, 6)\n",
    "ax.set_ylim(-6, 6)\n",
    "ax.legend()\n",
    "plt.tight_layout()\n",
    "fig.savefig('./output/circle_dataset.png')"
   ],
   "metadata": {},
   "execution_count": null,
   "outputs": [
    {
     "data": {
      "image/png": "[encoded data removed]",
      "text/plain": [
       "<Figure size 540x540 with 1 Axes>"
      ]
     },
     "metadata": {
      "needs_background": "light"
     },
     "output_type": "display_data"
    }
   ]
  },
  {
   "cell_type": "markdown",
   "source": [
    "### Fitting a circle using grdient descent\n",
    "\n",
    "The update step (according to excersize 1.4):\n",
    "\n",
    "$$\n",
    "\\begin{aligned}\n",
    "r^{(t+1)}&=r^{(t)}-\\frac{2\\eta}{n}\\sum_{i=1}^n (r^{(t)}-\\|\\boldsymbol{x}^{(i)}-\\boldsymbol{c}^{(t)}\\|_2)\\\\\n",
    "\\boldsymbol{c}^{(t+1)}&=\\boldsymbol{c}^{(t)}-\\frac{2\\eta}{n}\\sum_{i=1}^n (r^{(t)}-\\|\\boldsymbol{x}^{(i)}-\\boldsymbol{c}^{(t)}\\|_2)\\frac{\\boldsymbol{x}^{(i)}-\\boldsymbol{c}^{(t)}}{\\|\\boldsymbol{x}^{(i)}-\\boldsymbol{c}^{(t)}\\|_2}\n",
    "\\end{aligned}\n",
    "$$"
   ],
   "metadata": {}
  },
  {
   "cell_type": "code",
   "source": [
    "## Initializing the parameters\n",
    "center = np.array((0, 0))\n",
    "radius = 1\n",
    "\n",
    "## The algorithm's parameters controling the steps size\n",
    "eta = 0.01\n",
    "\n",
    "## Initializing the output figure\n",
    "fig, ax = plt.subplots()\n",
    "circle_obj = ax.plot([], [], 'r')[0]\n",
    "ax.plot(points[:, 0], points[:, 1], '.')\n",
    "ax.set_xlim(-6, 6)\n",
    "ax.set_ylim(-6, 6)\n",
    "title = ax.set_title('')\n",
    "imgs = []\n",
    "\n",
    "## Running the algorithm\n",
    "for t in range(0, 501):\n",
    "    points_tmp = points - center[None, :]  # an auxliriay valirable\n",
    "    points_tmp_norm = (points_tmp ** 2).sum(axis=1) ** 0.5  # The l2 norm of the auxiliriay variable\n",
    "    \n",
    "    ## The update step\n",
    "    new_radius = radius - eta * 2 * (radius - points_tmp_norm).mean()\n",
    "    new_center = center - eta * 2 * (((radius - points_tmp_norm) / points_tmp_norm)[:, None] * points_tmp).mean(axis=0)\n",
    "    \n",
    "    radius = new_radius\n",
    "    center = new_center\n",
    "    \n",
    "    ## Plot intermidiate \n",
    "    if t % 10 == 0:\n",
    "        circle = unit_circle * radius\n",
    "        circle += center[None, :]\n",
    "        circle_obj.set_data(circle[:, 0], circle[:, 1])\n",
    "        title.set_text(f'Step {t}')\n",
    "        fig.canvas.draw()\n",
    "\n",
    "        imgs.append(np.frombuffer(fig.canvas.tostring_rgb(), dtype='uint8').reshape(*fig.canvas.get_width_height(), 3))\n",
    "\n",
    "imageio.mimsave('./output/circle_fitting_iterations.gif', imgs, fps=10)\n",
    "plt.close(fig)\n",
    "display(HTML('<img src=\"./output/circle_fitting_iterations.gif\"/>'))"
   ],
   "metadata": {},
   "execution_count": null,
   "outputs": [
    {
     "data": {
      "text/html": [
       "<img src=\"./output/circle_fitting_iterations.gif\"/>"
      ],
      "text/plain": [
       "<IPython.core.display.HTML object>"
      ]
     },
     "metadata": {},
     "output_type": "display_data"
    }
   ]
  },
  {
   "cell_type": "code",
   "source": [],
   "metadata": {},
   "execution_count": null,
   "outputs": []
  }
 ],
 "metadata": {
  "kernalspec": {
   "display_name": "Python 3",
   "language": "python",
   "name": "python3"
  }
 },
 "nbformat": 4,
 "nbformat_minor": 4
}
