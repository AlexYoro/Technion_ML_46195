{
 "cells": [
  {
   "cell_type": "markdown",
   "source": [
    "# Homework 3 - Probability Estimation"
   ],
   "metadata": {}
  },
  {
   "cell_type": "markdown",
   "source": [
    "## Before you begin\n",
    "\n",
    "Remember to:\n",
    "\n",
    "1. Make your own copy of the notebook by pressing the \"Copy to drive\" button.\n",
    "2. Expend all cells by pressing **Ctrl+[**\n",
    "\n",
    "### Your IDs\n",
    "\n",
    "✍️ Fill in your IDs in the cell below:"
   ],
   "metadata": {}
  },
  {
   "cell_type": "code",
   "source": [
    "## %%%%%%%%%%%%%%% Your code here - Begin %%%%%%%%%%%%%%%\n",
    "## Fill in your IDs (as a string)\n",
    "student1_id = '...'\n",
    "student2_id = '...'\n",
    "## %%%%%%%%%%%%%%% Your code here - End %%%%%%%%%%%%%%%%%\n",
    "\n",
    "print('Hello ' + student1_id + ' & ' + student2_id)"
   ],
   "metadata": {},
   "execution_count": null,
   "outputs": []
  },
  {
   "cell_type": "markdown",
   "source": [
    "### Importing Packages"
   ],
   "metadata": {}
  },
  {
   "cell_type": "code",
   "source": [
    "import numpy as np  # Numerical package (mainly multi-dimensional arrays and linear algebra)\n",
    "import pandas as pd  # A package for working with data frames\n",
    "import matplotlib.pyplot as plt  # A plotting package\n",
    "\n",
    "## Setup matplotlib to output figures into the notebook\n",
    "%matplotlib inline\n",
    "\n",
    "## Set some default values of the the matplotlib plots\n",
    "plt.rcParams['figure.figsize'] = (6.0, 6.0)  # Set default plot's sizes\n",
    "plt.rcParams['figure.dpi'] = 120  # Set default plot's dpi (increase fonts' size)\n",
    "plt.rcParams['axes.grid'] = True  # Show grid by default in figures"
   ],
   "metadata": {},
   "execution_count": null,
   "outputs": []
  },
  {
   "cell_type": "markdown",
   "source": [
    "## The Ultra-Trail du Mont-Blanc\n",
    "\n",
    "In this assignment, we will examine the distribution of results in The Ultra-Trail du Mont-Blanc race.\n",
    "\n",
    "The description of the race (taken from Wikipedia):\n",
    "\n",
    ">  It takes place once a year on either the last weekend in August or the first weekend of September in the Alps, and follows the route of the Tour du Mont Blanc through France, Italy and Switzerland. It has a distance of approximately 171 kilometres (106 mi), and a total elevation gain of around 10,040 metres (32,940 ft). It is widely regarded as one of the most difficult foot races in the world, and one of the largest with more than 2,500 starters. It is one race during a week-long festival based around Chamonix in France. The races have strict entry and qualification requirements attained by accumulating enough race points through qualifying trail races over the previous two-year period. In 2016 and 2017, 42% and 34% of runners did not finish the UTMB race.\n",
    "\n",
    "> While the best runners complete the loop in slightly more than 20 hours, most runners take 32 to 46 hours to reach the finish line. Most runners will have to run through two nights in order to complete the race.\n",
    "\n",
    "The original results can be found [here](https://utmbmontblanc.com/en/page/349/results.html).\n",
    "\n",
    "A processed version of the results as a CSV file can be found [here](https://technion046195.netlify.app/datasets/utmb.csv)"
   ],
   "metadata": {}
  },
  {
   "cell_type": "markdown",
   "source": [
    "### Loading the dataset"
   ],
   "metadata": {}
  },
  {
   "cell_type": "code",
   "source": [
    "data_file = 'https://technion046195.netlify.app/datasets/utmb.csv'\n",
    "\n",
    "## Loading the data\n",
    "dataset = pd.read_csv(data_file)\n",
    "\n",
    "dataset"
   ],
   "metadata": {},
   "execution_count": null,
   "outputs": []
  },
  {
   "cell_type": "markdown",
   "source": [
    "### The Data Fields and Types\n",
    "\n",
    "This dataset contains the results for all the runners which finished the race over all the years in which the race took place. The data fields (the columns) for each runner are as following:\n",
    "\n",
    "- **Name**: The runner's name.\n",
    "- **Year**: The year of the race.\n",
    "- **Result**: The runner's result (the time it took him to finish the race) in hours. The race ends after about 47 hours. Therefore, these results are between 0 and 47.\n",
    "- **Age group**: The age group to which the runner belongs to: 0 - the youngest (10-22) and 6 - The oldest (80+)\n",
    "- **Gender**: The runner's gender: 0-male, 1-female.\n",
    "- **Rank**: The overall score rank of the runner in that specific year."
   ],
   "metadata": {}
  },
  {
   "cell_type": "markdown",
   "source": [
    "To extract a column from the DataFrame as a NumPy array we can use the following code:"
   ],
   "metadata": {}
  },
  {
   "cell_type": "markdown",
   "source": [
    "### ✍️ The == operator\n",
    "\n",
    "Correct the code below so that it will count and print the number of runners which have finished the race in 2014.\n",
    "- Use the equality operator \"a==b\" to create a boolean 1D array.\n",
    "- Use the summation function *np.sum(x)* to sum over the values of the array."
   ],
   "metadata": {}
  },
  {
   "cell_type": "code",
   "source": [
    "## Define the array of the years:\n",
    "years = dataset['Year'].values\n",
    "           \n",
    "## %%%%%%%%%%%%%%% Your code here - Begin %%%%%%%%%%%%%%%\n",
    "## Correct the following line:\n",
    "## Example: the number of runners which have finished the race since 2010 would be: np.sum(x > 2010)\n",
    "number_of_runners_in_2014 = ...\n",
    "## %%%%%%%%%%%%%%% Your code here - End %%%%%%%%%%%%%%%%%\n",
    "\n",
    "print('The number of runners which finished the race in 2014: ' + str(number_of_runners_in_2014))"
   ],
   "metadata": {},
   "execution_count": null,
   "outputs": []
  },
  {
   "cell_type": "markdown",
   "source": [
    "### ✍️ The & operator\n",
    "\n",
    "Correct the code below so that it will count and print the number of **male** runners which have finished the race in 2014.\n",
    "- Use the logical AND operator \"a & b\" two combine two boolean arrays"
   ],
   "metadata": {}
  },
  {
   "cell_type": "code",
   "source": [
    "## Define the array of the genders:\n",
    "genders = dataset['Gender'].values\n",
    "\n",
    "## %%%%%%%%%%%%%%% Your code here - Begin %%%%%%%%%%%%%%%\n",
    "## Fill in the following line:\n",
    "number_of_male_runners_in_2014 = ...\n",
    "## %%%%%%%%%%%%%%% Your code here - End %%%%%%%%%%%%%%%%%\n",
    "\n",
    "print('The number of male runners which finished the race in 2014: ' + str(number_of_male_runners_in_2014))"
   ],
   "metadata": {},
   "execution_count": null,
   "outputs": []
  },
  {
   "cell_type": "markdown",
   "source": [
    "### ✍️ Calculating the histogram\n",
    "\n",
    "In the cell below we define a function called *calculate_hist*. We would like this function to calculates an histogram based in the data array *x* by dividing the range of *x*s into *n_bins* equal bins.\n",
    "\n",
    "Complete the code so that it will correctly calculate the histogram:"
   ],
   "metadata": {}
  },
  {
   "cell_type": "code",
   "source": [
    "def calculate_hist(x, n_bins):\n",
    "    n_samples = len(x)  # Get the number of values in x\n",
    "    \n",
    "    ## Define bins\n",
    "    bins_edges = np.linspace(x.min(), x.max(), n_bins + 1)\n",
    "    bins_width = np.diff(bins_edges) ## This is equal to running: bins[1:] - bins[:-1]\n",
    "\n",
    "    ## Initialize the array of histogram values\n",
    "    hist_values = np.zeros(n_bins)\n",
    "    \n",
    "    ## Loop over the bins\n",
    "    for k in range(n_bins):\n",
    "        bin_left_edge = bins_edges[k]\n",
    "        bin_right_edge = bins_edges[k + 1]\n",
    "      \n",
    "        ## %%%%%%%%%%%%%%% Your code here - Begin %%%%%%%%%%%%%%%\n",
    "        ## Fill in the following line to count the number of samples in each bin:\n",
    "        number_of_samples_in_bin = ...\n",
    "        ## %%%%%%%%%%%%%%% Your code here - End %%%%%%%%%%%%%%%%%\n",
    "        \n",
    "        hist_values[k] = number_of_samples_in_bin / n_samples / bins_width[k]\n",
    "    \n",
    "    return hist_values, bins_edges, bins_width"
   ],
   "metadata": {},
   "execution_count": null,
   "outputs": []
  },
  {
   "cell_type": "markdown",
   "source": [
    "The following code uses the function above to calculate the histogram on the list of runners' running times."
   ],
   "metadata": {}
  },
  {
   "cell_type": "code",
   "source": [
    "## Define the array of the results:\n",
    "results = dataset['Result'].values\n",
    "\n",
    "## Calculate the histogram\n",
    "n_bins = 150\n",
    "hist_values, bins_edges, bins_width = calculate_hist(results, n_bins)"
   ],
   "metadata": {},
   "execution_count": null,
   "outputs": []
  },
  {
   "cell_type": "markdown",
   "source": [
    "The following code uses the Matplotlib package to plot the histogram."
   ],
   "metadata": {}
  },
  {
   "cell_type": "code",
   "source": [
    "## Prepare the figure and axes\n",
    "fig, ax = plt.subplots()\n",
    "\n",
    "## Plot the histogram's bars\n",
    "ax.bar(bins_edges[:-1], hist_values, width=bins_width, align='edge')\n",
    "\n",
    "## Set title and axis labels\n",
    "ax.set_title('Histogram of Results')\n",
    "ax.set_ylabel('PDF')\n",
    "ax.set_xlabel('Result [hours]');"
   ],
   "metadata": {},
   "execution_count": null,
   "outputs": []
  },
  {
   "cell_type": "markdown",
   "source": [
    "### The hist functions in NumPy and Matplotlib\n",
    "From here on we will use the NumPy function [numpy.histogram](https://docs.scipy.org/doc/numpy/reference/generated/numpy.histogram.html) to calculate histograms and the Matplotlib function [plt.hist](https://matplotlib.org/api/_as_gen/matplotlib.axes.Axes.hist.html?highlight=hist#matplotlib.axes.Axes.hist) to calculate and plot the histograms:"
   ],
   "metadata": {}
  },
  {
   "cell_type": "code",
   "source": [
    "## Calculate and plot the histogram\n",
    "fig, ax = plt.subplots()\n",
    "ax.hist(results, bins=n_bins ,density=True)\n",
    "ax.set_title('Historgram of Results')\n",
    "ax.set_ylabel('PDF')\n",
    "ax.set_xlabel('Result [hours]');"
   ],
   "metadata": {},
   "execution_count": null,
   "outputs": []
  },
  {
   "cell_type": "markdown",
   "source": [
    "### ✍️  Indexing\n",
    "\n",
    "Like in Matlab, we can use an array of booleans *x* to index an array *y* by *y[x]*.\n",
    "\n",
    "Complete the following code to calculate the mean result of male runners from 2014:"
   ],
   "metadata": {}
  },
  {
   "cell_type": "code",
   "source": [
    "## %%%%%%%%%%%%%%% Your code here - Begin %%%%%%%%%%%%%%%\n",
    "## Fill in the following line so that indices will be a boolean array corresponding to male runners which competed in 2014\n",
    "indices = ...\n",
    "## %%%%%%%%%%%%%%% Your code here - End %%%%%%%%%%%%%%%%%\n",
    "\n",
    "result_of_male_in_2014 = results[indices]\n",
    "mean_result = np.mean(result_of_male_in_2014)\n",
    "print('The mean result of male runners in 2014 is {:.2f} hours'.format(mean_result))"
   ],
   "metadata": {},
   "execution_count": null,
   "outputs": []
  },
  {
   "cell_type": "markdown",
   "source": [
    "*In the last line we have used the format function to format the output string. From here on we will be using format for that. You can read about how to use the format function [here](https://pyformat.info/)*"
   ],
   "metadata": {}
  },
  {
   "cell_type": "markdown",
   "source": [
    "### ✍️  Comparing Two Age Groups\n",
    "\n",
    "Let us now compare the results of two groups of runers:\n",
    "\n",
    "- **Group 1**: Male runners from age group 1 in 2018\n",
    "- **Group 2**: Male runners from age group 3 in 2018\n",
    "\n",
    "Complete the code bellow to extract the results of these two groups and plots their histograms:"
   ],
   "metadata": {}
  },
  {
   "cell_type": "code",
   "source": [
    "## %%%%%%%%%%%%%%% Your code here - Begin %%%%%%%%%%%%%%%\\\n",
    "## Define the array of age groups:\n",
    "age_group = ...\n",
    "\n",
    "## Define the indices for each group\n",
    "indices1 = ...\n",
    "indices2 = ...\n",
    "\n",
    "## Extract the results for each group\n",
    "results1 = results[indices1]\n",
    "results2 = results[indices2]\n",
    "## %%%%%%%%%%%%%%% Your code here - End %%%%%%%%%%%%%%%%%\n",
    "\n",
    "## Calculate and plot the histograms\n",
    "fig, ax = plt.subplots()\n",
    "ax.hist(results1, bins=40 ,density=True, alpha=0.3, label='Group 1')\n",
    "ax.hist(results2, bins=40 ,density=True, alpha=0.3, label='Group 2')\n",
    "ax.set_title('Historgrams for Groups 1 & 2')\n",
    "ax.set_ylabel('PDF')\n",
    "ax.set_xlabel('Result [hours]');\n",
    "ax.legend();"
   ],
   "metadata": {},
   "execution_count": null,
   "outputs": []
  },
  {
   "cell_type": "markdown",
   "source": [
    "### Fitting a parametric distribution model\n",
    "\n",
    "We will now try to fit a parametric distribution model to the results of the two age groups. We will do so using use the [Beta distribution](https://en.wikipedia.org/wiki/Beta_distribution).\n",
    "\n",
    "The Beta distribution describes a continues distribution over the finite interval of $\\left[0,1\\right]$ and has the following PDF:\n",
    "\n",
    "$$\n",
    "p\\left(x;a,b\\right)=\\frac{\\Gamma\\left(a+b\\right)}{\\Gamma\\left(a\\right)\\Gamma\\left(b\\right)}x^{a-1}\\left(1-x\\right)^{b-1}\n",
    "$$\n",
    "\n",
    "$\\Gamma$ here is the [Gamam function](https://en.wikipedia.org/wiki/Gamma_function) and is usually referred to as the extension of the factorial fuction. (since for integers inputs we get that $\\Gamma\\left(n\\right)=\\left(n-1\\right)!$). The Gamma function appears in the PDFs of various known distributions and is defined as an integral over some integrand. For our needs we will only have to be able to evaluate it for different inputs, and we will do so using SciPy function [scipy.special.gamma](https://docs.scipy.org/doc/scipy/reference/generated/scipy.special.gamma.html).\n",
    "\n",
    "$a$ and $b$ are the two parameters of the distribution, which we would like to find.\n",
    "\n",
    "#### Scaling the distribution\n",
    "\n",
    "In our case, the results are distributed over the interval $\\left[0,47\\right]$, so we will have to scale the Beta distribution to fit this range. We can do so by using the following scaled PDF:\n",
    "\n",
    "$$\n",
    "p\\left(x;a,b,s\\right)=\\frac{\\Gamma\\left(a+b\\right)}{s\\cdot\\Gamma\\left(a\\right)\\Gamma\\left(b\\right)}\\left(x/s\\right)^{a-1}\\left(1-\\left(x/s\\right)\\right)^{b-1}\n",
    "$$\n",
    "\n",
    "In our case $s=47$."
   ],
   "metadata": {}
  },
  {
   "cell_type": "markdown",
   "source": [
    "### ✍️  Plotting the Beta Distribution\n",
    "\n",
    "Fill in the code below to define the function *calc_beta_pdf*, which calculates the Beta distribution's PDF given some $a$ and $b$.\n",
    "\n",
    "- Use the gamma(x) to calculate $\\Gamma\\left(x\\right)$"
   ],
   "metadata": {}
  },
  {
   "cell_type": "code",
   "source": [
    "## import the gamma function from the SciPy package\n",
    "from scipy.special import gamma\n",
    "\n",
    "## Define the function calculating the PDF of the Beta distribution\n",
    "def calc_beta_pdf(x, a, b, s):\n",
    "    ## %%%%%%%%%%%%%%% Your code here - Begin %%%%%%%%%%%%%%%\n",
    "    pdf_value = gamma(a + b) / ....\n",
    "    ## %%%%%%%%%%%%%%% Your code here - End %%%%%%%%%%%%%%%%%\n",
    "  \n",
    "    return pdf_value"
   ],
   "metadata": {},
   "execution_count": null,
   "outputs": []
  },
  {
   "cell_type": "markdown",
   "source": [
    "The following code plots the PDF for the following values of values of $\\left(a,b\\right)$:\n",
    "\n",
    "$$\n",
    "\\left(0.5,0.5\\right),\\left(5,1\\right),\\left(1,3\\right),\\left(2,2\\right),\\left(2,5\\right),\n",
    "$$\n",
    "\n",
    "(You are expected get an \"RuntimeWarning: divide by zero\" error and it is OK.)"
   ],
   "metadata": {}
  },
  {
   "cell_type": "code",
   "source": [
    "## Define the scale parameter s\n",
    "s = 47\n",
    "\n",
    "## Define a grid to plot the distribution over.\n",
    "results_grid = np.arange(0, 47.1, 0.1)  # A grid from 0 to 47 with steps of 0.1\n",
    "\n",
    "## Prepare the figure and axes\n",
    "fig, ax = plt.subplots()\n",
    "\n",
    "## Calculate and plot the PDF for eac hset of parameters\n",
    "for a, b in [[0.5, 0.5], [5, 1], [1, 3], [2, 2], [2, 5]]:\n",
    "  beta_pdf = calc_beta_pdf(results_grid, a, b, s)\n",
    "  ax.plot(results_grid, beta_pdf, label='$a={},b={}$'.format(a, b))\n",
    "\n",
    "ax.set_title('Beta Distributions')\n",
    "ax.set_ylabel('PDF')\n",
    "ax.set_xlabel('Result [hours]');\n",
    "ax.set_ylim(0, 2.5 / s)\n",
    "ax.legend();"
   ],
   "metadata": {},
   "execution_count": null,
   "outputs": []
  },
  {
   "cell_type": "markdown",
   "source": [
    "### ✍️  Maximum Likelihood Estimation (MLE)\n",
    "\n",
    "We will Use the MLE approach to find the optimal parameters $a^*$ and $b^*$ for fitting the beta distribution to the results of group 1 and group2.\n",
    "\n",
    "To find the optimal parameters which minimizes the *Argmin* use a grid search, i.e., look for the optimal parameters over a selected grid by checking each and every point on the grid. Fill in the code below the define the functions performing the MLE.\n",
    "\n",
    "- Use np.log(x) to calculate the log of x\n",
    "- Use the calc_beta_pdf we have defined above to calculate the log-likelihood\n",
    "- Reminder: Use np.sum(x) to calculate the sum over the array x"
   ],
   "metadata": {}
  },
  {
   "cell_type": "code",
   "source": [
    "# Define the log-likelihood function\n",
    "def beta_log_likelyhood(a, b, s, x):\n",
    "    ## %%%%%%%%%%%%%%% Your code here - Begin %%%%%%%%%%%%%%%\n",
    "    ## Fill in this line to calculate the log-likelihood. x here is the array contating the data.\n",
    "    log_likelyhood = \n",
    "    ## %%%%%%%%%%%%%%% Your code here - End %%%%%%%%%%%%%%%%%\n",
    "  \n",
    "    return log_likelyhood\n",
    "\n",
    "  \n",
    "# Define the function which searches for the optimal parameters a & b on a given grid\n",
    "def beta_mle(a_grid, b_grid, s, x):\n",
    "    optimal_a = None\n",
    "    optimal_b = None\n",
    "    min_value_so_far = np.inf\n",
    "    for a in a_grid:\n",
    "        for b in b_grid:\n",
    "            ## %%%%%%%%%%%%%%% Your code here - Begin %%%%%%%%%%%%%%%\n",
    "            current_value = ...\n",
    "            ## %%%%%%%%%%%%%%% Your code here - End %%%%%%%%%%%%%%%%%\n",
    "            if current_value < min_value_so_far:\n",
    "                optimal_a = a\n",
    "                optimal_b = b\n",
    "                min_value_so_far = current_value\n",
    "  \n",
    "    return optimal_a, optimal_b"
   ],
   "metadata": {},
   "execution_count": null,
   "outputs": []
  },
  {
   "cell_type": "markdown",
   "source": [
    "The following code uses the above functions to find the optimal parameters and plot the estimated PDF over the histogram"
   ],
   "metadata": {}
  },
  {
   "cell_type": "code",
   "source": [
    "## Define the grid\n",
    "a_grid = np.arange(0.1, 10, 0.1)\n",
    "b_grid = np.arange(0.1, 10, 0.1)\n",
    "\n",
    "## Group 1\n",
    "## =======\n",
    "## Find optimal MLE parameters\n",
    "optimal_a1, optimal_b1 = beta_mle(a_grid, b_grid, s, results1)\n",
    "## Calcualte the PDF\n",
    "beta_pdf1 = calc_beta_pdf(results_grid, optimal_a1, optimal_b1, s)\n",
    "## Plot the results\n",
    "fig, ax = plt.subplots()\n",
    "ax.hist(results1, bins=40 ,density=True, label='Histogram')\n",
    "ax.plot(results_grid, beta_pdf1, label='Beta')\n",
    "ax.set_title('Group 1 - MLE')\n",
    "ax.set_ylabel('PDF')\n",
    "ax.set_xlabel('Time [min]')\n",
    "ax.legend();\n",
    "\n",
    "## Group 2\n",
    "## =======\n",
    "## Find optimal MLE parameters\n",
    "optimal_a2, optimal_b2 = beta_mle(a_grid, b_grid, s, results2)\n",
    "## Calcualte the PDF\n",
    "beta_pdf2 = calc_beta_pdf(results_grid, optimal_a2, optimal_b2, s)\n",
    "## Plot the results\n",
    "fig, ax = plt.subplots()\n",
    "ax.hist(results2, bins=40 ,density=True, label='Histogram')\n",
    "ax.plot(results_grid, beta_pdf2, label='Beta')\n",
    "ax.set_title('Group 2 - MLE')\n",
    "ax.set_ylabel('PDF')\n",
    "ax.set_xlabel('Time [min]')\n",
    "ax.legend();"
   ],
   "metadata": {},
   "execution_count": null,
   "outputs": []
  },
  {
   "cell_type": "markdown",
   "source": [
    "### The [scipy.stats.beta](https://docs.scipy.org/doc/scipy/reference/generated/scipy.stats.beta.html) model\n",
    "\n",
    "SciPy has a set of object for working with a large range of distributions, one of them is *scipy.stats.beta*.\n",
    "A distribution with a given set of parameter can by define by:\n",
    "``` python\n",
    "distrib = beta(a, b)\n",
    "```\n",
    "\n",
    "or with a specific scale and offset:\n",
    "``` python\n",
    "distrib = beta(a, b, offset, scale)\n",
    "```\n",
    "\n",
    "The *distrib* objects can now be used to calculate the PDF using *distrib.pdf*, generate random samples using *distrib.rsv* and more.\n",
    "The *scipy.stats.beta* can also be used to estimate the MLE parameters given a dataset by:\n",
    "``` python\n",
    "a,  b, offset, scale = beta.fit(data, floc=offset, fscale=scale)\n",
    "```\n",
    "\n",
    "The following code compares our grid search calculation of the MLE parameters to SciPy's calculation."
   ],
   "metadata": {}
  },
  {
   "cell_type": "code",
   "source": [
    "## Import the beta distribution model from SciPy\n",
    "from scipy.stats import beta\n",
    "\n",
    "## Calcualte the MLE parameters for group 1 using SciPy\n",
    "optimal_a1_scipy, optimal_b1_scipy, _, _ = beta.fit(results1, floc=0, fscale=s)\n",
    "## The _ in the line above tells Python to ignore the 3rd and 4th outputs of beta.fit\n",
    "\n",
    "print('Results using our function: a={:.2f}, b={:.2f}'.format(optimal_a1, optimal_b1))\n",
    "print('Results using SciPy: a={:.2f}, b={:.2f}'.format(optimal_a1_scipy, optimal_b1_scipy))"
   ],
   "metadata": {},
   "execution_count": null,
   "outputs": []
  },
  {
   "cell_type": "markdown",
   "source": [
    "## The Probability of Group 2 Being Better Then Group 1\n",
    "\n",
    "We would now like to calculate the following probability:\n",
    "\n",
    "> The probability that the result of a random runner from group 2 will be better (lower) then the result of a random runner from group 1\n",
    "\n",
    "We would like to do so based on the two estimated probabilities we have found.\n",
    "\n",
    "Before you start, write this probability (for yourself, not for submission) as an integral over the PDF of the joint distribution of the two results. We will calculate this integral numerically."
   ],
   "metadata": {}
  },
  {
   "cell_type": "markdown",
   "source": [
    "### The 2D grid\n",
    "\n",
    "The following code creates a 2D grid using np.meshgrid (which is similar to Matlab's meshgrid function)"
   ],
   "metadata": {}
  },
  {
   "cell_type": "code",
   "source": [
    "## Define the 2D grid of results using np.meshgrid (which is similar to Matlab's meshgrid function)\n",
    "results_grid_2d_1, results_grid_2d_2 = np.meshgrid(np.arange(0, 47.1, 0.1), np.arange(0, 47.1, 0.1))\n",
    "\n",
    "print('results_grid_2d_1:')\n",
    "print(results_grid_2d_1[:5, :5])\n",
    "print()\n",
    "print('results_grid_2d_2:')\n",
    "print(results_grid_2d_2[:5, :5])"
   ],
   "metadata": {},
   "execution_count": null,
   "outputs": []
  },
  {
   "cell_type": "markdown",
   "source": [
    "### ✍️  The joint probability\n",
    "\n",
    "Calculate the PDF of the joint probability of the results of the two runners over the 2D grid of results."
   ],
   "metadata": {}
  },
  {
   "cell_type": "code",
   "source": [
    "## %%%%%%%%%%%%%%% Your code here - Begin %%%%%%%%%%%%%%%\n",
    "## Calcualte the MLE parameters for group 1 using SciPy\n",
    "optimal_a2_scipy, optimal_b2_scipy, _, _ = ...\n",
    "\n",
    "## Define two SciPy beta distribution objects based on the MLE parameters calculated earlier: \n",
    "beta_dist1 = beta(optimal_a1_scipy, optimal_b1_scipy, loc=0, scale=s)\n",
    "beta_dist2 = ...\n",
    "\n",
    "## Calculate the marginal PDF of the two results over the grid\n",
    "marginal_pdf1 = beta_dist1.pdf(results_grid_2d_1)\n",
    "marginal_pdf2 = ...\n",
    "\n",
    "## Calculate the joint PDF over the grid\n",
    "joint_pdf = ...\n",
    "## %%%%%%%%%%%%%%% Your code here - End %%%%%%%%%%%%%%%%%"
   ],
   "metadata": {},
   "execution_count": null,
   "outputs": []
  },
  {
   "cell_type": "markdown",
   "source": [
    "### Plotting the joint distribution\n",
    "\n",
    "(You are expected get an \"RuntimeWarning: divide by zero\" error and it is OK.)"
   ],
   "metadata": {}
  },
  {
   "cell_type": "code",
   "source": [
    "## Plot the joint PDF\n",
    "from matplotlib import ticker  # ticker is used to select the levels of the conturs map according to a logaritmic scale\n",
    "fig, ax = plt.subplots()\n",
    "ax.contour(results_grid_2d_1, results_grid_2d_2, joint_pdf, locator=ticker.LogLocator(numticks=40), colors='black', linewidths=0.2)\n",
    "img_obj = ax.contourf(results_grid_2d_1, results_grid_2d_2, joint_pdf, locator=ticker.LogLocator(numticks=40), cmap='jet')\n",
    "plt.colorbar(img_obj);\n",
    "ax.set_title('The Joint PDF')\n",
    "ax.set_ylabel('Result of Runner 2')\n",
    "ax.set_xlabel('Result of Runner 1')\n",
    "ax.legend();"
   ],
   "metadata": {},
   "execution_count": null,
   "outputs": []
  },
  {
   "cell_type": "markdown",
   "source": [
    "### Calculation the integral\n",
    "\n",
    "Given a 2D grid $\\left\\{x_i\\right\\}$, $\\left\\{y_j\\right\\}$ with step sizes of $\\Delta x$ and $\\Delta y$ and area $S$, we can approximate the integral:\n",
    "\n",
    "$$\n",
    "\\underset{S}{\\int\\int}f\\left(x,y\\right)dx_1dx_2\n",
    "$$\n",
    "\n",
    "As:\n",
    "\n",
    "$$\n",
    "\\sum_{x_i,y_j\\in S}f\\left(x_i,y_j\\right) \\Delta x \\Delta y\n",
    "$$\n",
    "\n",
    "✍️ Approximate the desired probability using a numerical approximation of the relevant integral over the joint probability:"
   ],
   "metadata": {}
  },
  {
   "cell_type": "code",
   "source": [
    "dx1 = 0.1\n",
    "dx2 = 0.1\n",
    "\n",
    "## %%%%%%%%%%%%%%% Your code here - Begin %%%%%%%%%%%%%%%\n",
    "## Fill in the following line to define the points on the grid which we would like to integrate over.\n",
    "## Use results_grid_2d_1 & results_grid_2d_2 to define relevat_area\n",
    "relevat_area = ...\n",
    "## %%%%%%%%%%%%%%% Your code here - End %%%%%%%%%%%%%%%%%\n",
    "\n",
    "prob = np.sum(joint_pdf * relevat_area) * dx1 * dx2\n",
    "\n",
    "print('The probability that the result of a random runner from group 2 will be better (lower) then the result of a random runner from group 1 is: {:.2f}'.format(prob))"
   ],
   "metadata": {},
   "execution_count": null,
   "outputs": []
  },
  {
   "cell_type": "markdown",
   "source": [
    "## Submission\n",
    "\n",
    "To submit your code download it as a **ipynb** file from Colab, and upload it to the course's website (Moodle). You can download this code by selecting **Download .ipynb** from the **file** menu."
   ],
   "metadata": {}
  }
 ],
 "metadata": {
  "kernelspec": {
   "display_name": "Python 3",
   "language": "python",
   "name": "python3"
  }
 },
 "nbformat": 4,
 "nbformat_minor": 1
}
