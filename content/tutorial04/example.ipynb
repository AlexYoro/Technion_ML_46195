{
 "cells": [
  {
   "cell_type": "markdown",
   "source": [
    "<a href=\"/assets/tutorial04_example.ipynb\" class=\"link-button\">Download</a>\n",
    "<a href=\"https://colab.research.google.com/github/technion046195/technion046195/blob/master/content/tutorial04/example.ipynb\" target=\"_blank\">\n",
    "<img src=\"../assets/colab-badge.svg\" style=\"display:inline\"/>\n",
    "</a>\n",
    "\n",
    "<center><h1>\n",
    "תרגול 4 - דוגמא מעשית\n",
    "</h1></center>"
   ],
   "metadata": {}
  },
  {
   "cell_type": "markdown",
   "source": [
    "## Setup"
   ],
   "metadata": {}
  },
  {
   "cell_type": "code",
   "source": [
    "## Importing packages\n",
    "import os # A build in package for interacting with the OS. For example to create a folder.\n",
    "import numpy as np  # Numerical package (mainly multi-dimensional arrays and linear algebra)\n",
    "import pandas as pd  # A package for working with data frames\n",
    "import matplotlib.pyplot as plt  # A plotting package\n",
    "import imageio  # A package to read and write image (is used here to save gif images)\n",
    "\n",
    "## Setup matplotlib to output figures into the notebook\n",
    "## - To make the figures interactive (zoomable, tooltip, etc.) use \"\"%matplotlib notebook\" instead\n",
    "%matplotlib inline\n",
    "\n",
    "## Setting some nice matplotlib defaults\n",
    "plt.rcParams['figure.figsize'] = (4.5, 4.5)  # Set default plot's sizes\n",
    "plt.rcParams['figure.dpi'] = 120  # Set default plot's dpi (increase fonts' size)\n",
    "plt.rcParams['axes.grid'] = True  # Show grid by default in figures\n",
    "\n",
    "## Auxiliary function for prining equations, pandas tables and images in cells output\n",
    "from IPython.core.display import display, HTML, Latex, Markdown\n",
    "\n",
    "## Create output folder\n",
    "if not os.path.isdir('./output'):\n",
    "    os.mkdir('./output')"
   ],
   "metadata": {},
   "execution_count": null,
   "outputs": []
  },
  {
   "cell_type": "markdown",
   "source": [
    "### Data Inspection"
   ],
   "metadata": {}
  },
  {
   "cell_type": "code",
   "source": [
    "data_file = 'https://technion046195.netlify.app/datasets/nyc_taxi_rides.csv'\n",
    "\n",
    "## Loading the data\n",
    "dataset = pd.read_csv(data_file)\n",
    "\n",
    "## Print the number of rows in the data set\n",
    "number_of_rows = len(dataset)\n",
    "display(Markdown(f'Number of rows in the dataset: $N={number_of_rows}$'))\n",
    "\n",
    "## Show the first 10 rows\n",
    "dataset.head(10)"
   ],
   "metadata": {},
   "execution_count": null,
   "outputs": [
    {
     "data": {
      "text/markdown": [
       "Number of rows in the dataset: $N=100000$"
      ],
      "text/plain": [
       "<IPython.core.display.Markdown object>"
      ]
     },
     "metadata": {},
     "output_type": "display_data"
    },
    {
     "data": {
      "text/html": [
       "<div>\n",
       "<style scoped>\n",
       "    .dataframe tbody tr th:only-of-type {\n",
       "        vertical-align: middle;\n",
       "    }\n",
       "\n",
       "    .dataframe tbody tr th {\n",
       "        vertical-align: top;\n",
       "    }\n",
       "\n",
       "    .dataframe thead th {\n",
       "        text-align: right;\n",
       "    }\n",
       "</style>\n",
       "<table border=\"1\" class=\"dataframe\">\n",
       "  <thead>\n",
       "    <tr style=\"text-align: right;\">\n",
       "      <th></th>\n",
       "      <th>passenger_count</th>\n",
       "      <th>trip_distance</th>\n",
       "      <th>payment_type</th>\n",
       "      <th>fare_amount</th>\n",
       "      <th>tip_amount</th>\n",
       "      <th>pickup_easting</th>\n",
       "      <th>pickup_northing</th>\n",
       "      <th>dropoff_easting</th>\n",
       "      <th>dropoff_northing</th>\n",
       "      <th>duration</th>\n",
       "      <th>day_of_week</th>\n",
       "      <th>day_of_month</th>\n",
       "      <th>time_of_day</th>\n",
       "    </tr>\n",
       "  </thead>\n",
       "  <tbody>\n",
       "    <tr>\n",
       "      <th>0</th>\n",
       "      <td>2</td>\n",
       "      <td>2.768065</td>\n",
       "      <td>2</td>\n",
       "      <td>9.5</td>\n",
       "      <td>0.00</td>\n",
       "      <td>586.996941</td>\n",
       "      <td>4512.979705</td>\n",
       "      <td>588.155118</td>\n",
       "      <td>4515.180889</td>\n",
       "      <td>11.516667</td>\n",
       "      <td>3</td>\n",
       "      <td>13</td>\n",
       "      <td>12.801944</td>\n",
       "    </tr>\n",
       "    <tr>\n",
       "      <th>1</th>\n",
       "      <td>1</td>\n",
       "      <td>3.218680</td>\n",
       "      <td>2</td>\n",
       "      <td>10.0</td>\n",
       "      <td>0.00</td>\n",
       "      <td>587.151523</td>\n",
       "      <td>4512.923924</td>\n",
       "      <td>584.850489</td>\n",
       "      <td>4512.632082</td>\n",
       "      <td>12.666667</td>\n",
       "      <td>6</td>\n",
       "      <td>16</td>\n",
       "      <td>20.961389</td>\n",
       "    </tr>\n",
       "    <tr>\n",
       "      <th>2</th>\n",
       "      <td>1</td>\n",
       "      <td>2.574944</td>\n",
       "      <td>1</td>\n",
       "      <td>7.0</td>\n",
       "      <td>2.49</td>\n",
       "      <td>587.005357</td>\n",
       "      <td>4513.359700</td>\n",
       "      <td>585.434188</td>\n",
       "      <td>4513.174964</td>\n",
       "      <td>5.516667</td>\n",
       "      <td>0</td>\n",
       "      <td>31</td>\n",
       "      <td>20.412778</td>\n",
       "    </tr>\n",
       "    <tr>\n",
       "      <th>3</th>\n",
       "      <td>1</td>\n",
       "      <td>0.965604</td>\n",
       "      <td>1</td>\n",
       "      <td>7.5</td>\n",
       "      <td>1.65</td>\n",
       "      <td>586.648975</td>\n",
       "      <td>4511.729212</td>\n",
       "      <td>586.671530</td>\n",
       "      <td>4512.554065</td>\n",
       "      <td>9.883333</td>\n",
       "      <td>1</td>\n",
       "      <td>25</td>\n",
       "      <td>13.031389</td>\n",
       "    </tr>\n",
       "    <tr>\n",
       "      <th>4</th>\n",
       "      <td>1</td>\n",
       "      <td>2.462290</td>\n",
       "      <td>1</td>\n",
       "      <td>7.5</td>\n",
       "      <td>1.66</td>\n",
       "      <td>586.967178</td>\n",
       "      <td>4511.894301</td>\n",
       "      <td>585.262474</td>\n",
       "      <td>4511.755477</td>\n",
       "      <td>8.683333</td>\n",
       "      <td>2</td>\n",
       "      <td>5</td>\n",
       "      <td>7.703333</td>\n",
       "    </tr>\n",
       "    <tr>\n",
       "      <th>5</th>\n",
       "      <td>5</td>\n",
       "      <td>1.561060</td>\n",
       "      <td>1</td>\n",
       "      <td>7.5</td>\n",
       "      <td>2.20</td>\n",
       "      <td>585.926415</td>\n",
       "      <td>4512.880385</td>\n",
       "      <td>585.168973</td>\n",
       "      <td>4511.540103</td>\n",
       "      <td>9.433333</td>\n",
       "      <td>3</td>\n",
       "      <td>20</td>\n",
       "      <td>20.667222</td>\n",
       "    </tr>\n",
       "    <tr>\n",
       "      <th>6</th>\n",
       "      <td>1</td>\n",
       "      <td>2.574944</td>\n",
       "      <td>1</td>\n",
       "      <td>8.0</td>\n",
       "      <td>1.00</td>\n",
       "      <td>586.731409</td>\n",
       "      <td>4515.084445</td>\n",
       "      <td>588.710175</td>\n",
       "      <td>4514.209184</td>\n",
       "      <td>7.950000</td>\n",
       "      <td>5</td>\n",
       "      <td>8</td>\n",
       "      <td>23.841944</td>\n",
       "    </tr>\n",
       "    <tr>\n",
       "      <th>7</th>\n",
       "      <td>1</td>\n",
       "      <td>0.804670</td>\n",
       "      <td>2</td>\n",
       "      <td>5.0</td>\n",
       "      <td>0.00</td>\n",
       "      <td>585.344614</td>\n",
       "      <td>4509.712541</td>\n",
       "      <td>585.843967</td>\n",
       "      <td>4509.545089</td>\n",
       "      <td>4.950000</td>\n",
       "      <td>5</td>\n",
       "      <td>29</td>\n",
       "      <td>15.831389</td>\n",
       "    </tr>\n",
       "    <tr>\n",
       "      <th>8</th>\n",
       "      <td>1</td>\n",
       "      <td>3.653202</td>\n",
       "      <td>1</td>\n",
       "      <td>10.0</td>\n",
       "      <td>1.10</td>\n",
       "      <td>585.422062</td>\n",
       "      <td>4509.477536</td>\n",
       "      <td>583.671081</td>\n",
       "      <td>4507.735573</td>\n",
       "      <td>11.066667</td>\n",
       "      <td>5</td>\n",
       "      <td>8</td>\n",
       "      <td>2.098333</td>\n",
       "    </tr>\n",
       "    <tr>\n",
       "      <th>9</th>\n",
       "      <td>6</td>\n",
       "      <td>1.625433</td>\n",
       "      <td>1</td>\n",
       "      <td>5.5</td>\n",
       "      <td>1.36</td>\n",
       "      <td>587.875433</td>\n",
       "      <td>4514.931073</td>\n",
       "      <td>587.701248</td>\n",
       "      <td>4513.709691</td>\n",
       "      <td>4.216667</td>\n",
       "      <td>3</td>\n",
       "      <td>13</td>\n",
       "      <td>21.783056</td>\n",
       "    </tr>\n",
       "  </tbody>\n",
       "</table>\n",
       "</div>"
      ],
      "text/plain": [
       "   passenger_count  trip_distance  payment_type  fare_amount  tip_amount  \\\n",
       "0                2       2.768065             2          9.5        0.00   \n",
       "1                1       3.218680             2         10.0        0.00   \n",
       "2                1       2.574944             1          7.0        2.49   \n",
       "3                1       0.965604             1          7.5        1.65   \n",
       "4                1       2.462290             1          7.5        1.66   \n",
       "5                5       1.561060             1          7.5        2.20   \n",
       "6                1       2.574944             1          8.0        1.00   \n",
       "7                1       0.804670             2          5.0        0.00   \n",
       "8                1       3.653202             1         10.0        1.10   \n",
       "9                6       1.625433             1          5.5        1.36   \n",
       "\n",
       "   pickup_easting  pickup_northing  dropoff_easting  dropoff_northing  \\\n",
       "0      586.996941      4512.979705       588.155118       4515.180889   \n",
       "1      587.151523      4512.923924       584.850489       4512.632082   \n",
       "2      587.005357      4513.359700       585.434188       4513.174964   \n",
       "3      586.648975      4511.729212       586.671530       4512.554065   \n",
       "4      586.967178      4511.894301       585.262474       4511.755477   \n",
       "5      585.926415      4512.880385       585.168973       4511.540103   \n",
       "6      586.731409      4515.084445       588.710175       4514.209184   \n",
       "7      585.344614      4509.712541       585.843967       4509.545089   \n",
       "8      585.422062      4509.477536       583.671081       4507.735573   \n",
       "9      587.875433      4514.931073       587.701248       4513.709691   \n",
       "\n",
       "    duration  day_of_week  day_of_month  time_of_day  \n",
       "0  11.516667            3            13    12.801944  \n",
       "1  12.666667            6            16    20.961389  \n",
       "2   5.516667            0            31    20.412778  \n",
       "3   9.883333            1            25    13.031389  \n",
       "4   8.683333            2             5     7.703333  \n",
       "5   9.433333            3            20    20.667222  \n",
       "6   7.950000            5             8    23.841944  \n",
       "7   4.950000            5            29    15.831389  \n",
       "8  11.066667            5             8     2.098333  \n",
       "9   4.216667            3            13    21.783056  "
      ]
     },
     "execution_count": 2,
     "metadata": {},
     "output_type": "execute_result"
    }
   ]
  },
  {
   "cell_type": "code",
   "source": [
    "import skimage.io  # Another package to heandle images\n",
    "\n",
    "## Load and image of the streets of NY\n",
    "ny_map_image = skimage.io.imread('https://technion046195.netlify.app/assets/nyc_map.png')\n",
    "\n",
    "## The geografic bounding box of the map data as [West-longtitude East-longtitude South-latitude North-latitude]:\n",
    "bbox = [582.5, 592.5, 4505.5, 4515.5]  "
   ],
   "metadata": {},
   "execution_count": null,
   "outputs": []
  },
  {
   "cell_type": "markdown",
   "source": [
    "## Train-test split"
   ],
   "metadata": {}
  },
  {
   "cell_type": "code",
   "source": [
    "n_samples = len(dataset)\n",
    "\n",
    "## Generate a random generator with a fixed seed\n",
    "rand_gen = np.random.RandomState(0)\n",
    "\n",
    "## Generating a vector of indices\n",
    "indices = np.arange(n_samples)\n",
    "\n",
    "## Shuffle the indices\n",
    "rand_gen.shuffle(indices)\n",
    "\n",
    "## Split the indices into 80% train / 20% test\n",
    "n_samples_train = int(n_samples * 0.8)\n",
    "train_indices = indices[:n_samples_train]\n",
    "test_indices = indices[n_samples_train:]\n",
    "\n",
    "train_set = dataset.iloc[train_indices]\n",
    "test_set = dataset.iloc[test_indices]"
   ],
   "metadata": {},
   "execution_count": null,
   "outputs": []
  },
  {
   "cell_type": "markdown",
   "source": [
    "## Defining a train and evaluation function"
   ],
   "metadata": {}
  },
  {
   "cell_type": "code",
   "source": [
    "def train_linear(dataset, aug_func):\n",
    "    x = aug_func(dataset)\n",
    "    y = dataset['duration'].values\n",
    "    \n",
    "    ## normalize\n",
    "    x_mean = x.mean(axis=0, keepdims=True)\n",
    "    x_std = x.std(axis=0, keepdims=True)\n",
    "    x_mean[x_std == 0] = 0\n",
    "    x_std[x_std ==0] = 1\n",
    "    x -= x_mean\n",
    "    x /= x_std\n",
    "    \n",
    "    ## Fit parameters\n",
    "    theta, _, _, _ = np.linalg.lstsq(x, y, rcond=None)\n",
    "    \n",
    "    ## Generate predictor\n",
    "    h = lambda dataset_: ((aug_func(dataset_) - x_mean) / x_std) @ theta\n",
    "    \n",
    "    return h, theta"
   ],
   "metadata": {},
   "execution_count": null,
   "outputs": []
  },
  {
   "cell_type": "code",
   "source": [
    "def eval_model_rmse(h, dataset):\n",
    "    y = dataset['duration'].values\n",
    "    y_hat = h(dataset)\n",
    "    score = ((y_hat - y) ** 2).mean() ** 0.5\n",
    "    return score"
   ],
   "metadata": {},
   "execution_count": null,
   "outputs": []
  },
  {
   "cell_type": "markdown",
   "source": [
    "## Initial model\n",
    "\n",
    "We will start with the following linear model:\n",
    "\n",
    "$$\n",
    "h\\left(\\boldsymbol{x};\\boldsymbol{\\theta}\\right) \n",
    "= \\theta_0\\sqrt{\\left(x_\\text{drop off}-x_\\text{pickup}\\right)^2 + \\left(y_\\text{drop off}-y_\\text{pickup}\\right)^2} \\\\\n",
    "+ \\theta_1 + \\theta_2 x_\\text{pickup}  + \\theta_3 y_\\text{pickup} \\\\\n",
    "+ \\theta_4 x_\\text{pickup}y_\\text{pickup}\n",
    "+ \\theta_5 x_\\text{pickup}^2 + \\theta_6 y_\\text{pickup}^2\n",
    "$$"
   ],
   "metadata": {}
  },
  {
   "cell_type": "code",
   "source": [
    "def aug_func1(dataset):\n",
    "    pickup_easting = dataset['pickup_easting'].values.copy()\n",
    "    pickup_northing = dataset['pickup_northing'].values.copy()\n",
    "    dropoff_easting = dataset['dropoff_easting'].values.copy()\n",
    "    dropoff_northing = dataset['dropoff_northing'].values.copy()\n",
    "    \n",
    "    dist = ((pickup_easting - dropoff_easting) ** 2 + (pickup_northing - dropoff_northing) ** 2) ** 0.5\n",
    "    \n",
    "    x = np.stack((\n",
    "        dist,\n",
    "        np.ones(len(dataset)),\n",
    "        pickup_easting,\n",
    "        pickup_northing,\n",
    "        pickup_easting * pickup_northing,\n",
    "        pickup_easting ** 2,\n",
    "        pickup_northing ** 2,\n",
    "        ), axis=1)\n",
    "    \n",
    "    return x"
   ],
   "metadata": {},
   "execution_count": null,
   "outputs": []
  },
  {
   "cell_type": "markdown",
   "source": [
    "### Evaluate"
   ],
   "metadata": {}
  },
  {
   "cell_type": "code",
   "source": [
    "h, _ = train_linear(train_set, aug_func1)\n",
    "train_score = eval_model_rmse(h, train_set)\n",
    "display(Markdown(f'The train score of the model is: {train_score:.2f} [min]'))\n",
    "\n",
    "test_score = eval_model_rmse(h, test_set)\n",
    "display(Markdown(f'The test score of the model is: {test_score:.2f} [min]'))"
   ],
   "metadata": {},
   "execution_count": null,
   "outputs": [
    {
     "data": {
      "text/markdown": [
       "The train score of the model is: 5.13 [min]"
      ],
      "text/plain": [
       "<IPython.core.display.Markdown object>"
      ]
     },
     "metadata": {},
     "output_type": "display_data"
    },
    {
     "data": {
      "text/markdown": [
       "The test score of the model is: 5.16 [min]"
      ],
      "text/plain": [
       "<IPython.core.display.Markdown object>"
      ]
     },
     "metadata": {},
     "output_type": "display_data"
    }
   ]
  },
  {
   "cell_type": "markdown",
   "source": [
    "## Higher orders"
   ],
   "metadata": {}
  },
  {
   "cell_type": "markdown",
   "source": [
    "### Train - validation split"
   ],
   "metadata": {}
  },
  {
   "cell_type": "code",
   "source": [
    "## Generating a vector of indices\n",
    "indices = train_indices.copy()\n",
    "\n",
    "## Shuffle the indices\n",
    "rand_gen = np.random.RandomState(1)\n",
    "rand_gen.shuffle(indices)\n",
    "\n",
    "## Split the indices into 75% train / 25% validation\n",
    "n_samples_train2 = int(n_samples_train * 0.75)\n",
    "train2_indices = indices[:n_samples_train2]\n",
    "val_indices = indices[n_samples_train2:]\n",
    "\n",
    "train2_set = dataset.iloc[train2_indices]\n",
    "val_set = dataset.iloc[val_indices]"
   ],
   "metadata": {},
   "execution_count": null,
   "outputs": []
  },
  {
   "cell_type": "code",
   "source": [
    "def aug_func_by_order(dataset, order):\n",
    "    pickup_easting = dataset['pickup_easting'].values.copy()\n",
    "    pickup_northing = dataset['pickup_northing'].values.copy()\n",
    "    dropoff_easting = dataset['dropoff_easting'].values.copy()\n",
    "    dropoff_northing = dataset['dropoff_northing'].values.copy()\n",
    "            \n",
    "    ## Scaling coordiantes to prevent overflow\n",
    "    pickup_easting -= 586\n",
    "    pickup_northing -= 4510\n",
    "    dropoff_easting -= 586\n",
    "    dropoff_northing -= 4510\n",
    "    \n",
    "    \n",
    "    powers = []\n",
    "    for p1 in range(order + 1):\n",
    "        for p2 in range(order + 1):\n",
    "            for p3 in range(order + 1):\n",
    "                for p4 in range(order + 1):\n",
    "                    powers.append([p1, p2, p3, p4])\n",
    "    powers = np.stack(powers, axis=0)\n",
    "    powers = powers[powers.sum(axis=1) <= order]\n",
    "    \n",
    "    base = np.stack((pickup_easting, pickup_northing, dropoff_easting, dropoff_northing), axis=1)\n",
    "    x = (base[:, None, :] ** powers[None, :, :]).prod(axis=2)\n",
    "    \n",
    "    return x"
   ],
   "metadata": {},
   "execution_count": null,
   "outputs": []
  },
  {
   "cell_type": "code",
   "source": [
    "# def aug_func_by_order(dataset, order):\n",
    "#     pickup_easting = dataset['pickup_easting'].values.copy()\n",
    "#     pickup_northing = dataset['pickup_northing'].values.copy()\n",
    "#     dropoff_easting = dataset['dropoff_easting'].values.copy()\n",
    "#     dropoff_northing = dataset['dropoff_northing'].values.copy()\n",
    "            \n",
    "#     ## Scaling coordiantes to prevent overflow\n",
    "#     pickup_easting -= 586\n",
    "#     pickup_northing -= 4510\n",
    "#     dropoff_easting -= 586\n",
    "#     dropoff_northing -= 4510\n",
    "    \n",
    "#     dist = ((pickup_easting - dropoff_easting) ** 2 + (pickup_northing - dropoff_northing) ** 2) ** 0.5\n",
    "\n",
    "#     ## Create all pairs of power combinations using meshgrid\n",
    "#     powers1, powers2 = np.meshgrid(np.arange(order + 1), np.arange(order + 1))\n",
    "#     ## Flatten the martices of powers into a 2 by N array\n",
    "#     powers = np.stack((powers1.flatten(), powers2.flatten()), axis=0)\n",
    "#     ## Keep only powers which are smaller then order\n",
    "#     powers = powers[:, powers.sum(axis=0) <= order]\n",
    "    \n",
    "#     x = np.concatenate((\n",
    "#         dist[:, None],\n",
    "#         pickup_easting[:,None] ** powers[0] * pickup_northing[:,None] ** powers[1],\n",
    "#         ), axis=1)\n",
    "    \n",
    "#     return x"
   ],
   "metadata": {},
   "execution_count": null,
   "outputs": []
  },
  {
   "cell_type": "markdown",
   "source": [
    "### Setting the hyper-parameter - the model's order"
   ],
   "metadata": {}
  },
  {
   "cell_type": "code",
   "source": [
    "k_list = np.arange(10)\n",
    "train_scores = {}\n",
    "val_scores = {}\n",
    "\n",
    "for k in k_list:\n",
    "    aug_func = lambda dataset: aug_func_by_order(dataset, k)\n",
    "    h, _ = train_linear(train2_set, aug_func)\n",
    "    train_scores[k] = eval_model_rmse(h, train2_set)\n",
    "    val_scores[k] = eval_model_rmse(h, val_set)"
   ],
   "metadata": {},
   "execution_count": null,
   "outputs": []
  },
  {
   "cell_type": "code",
   "source": [
    "## Ploting\n",
    "fig, ax = plt.subplots(figsize=(5, 5))\n",
    "ax.plot(k_list, [train_scores[k] for k in k_list], label='Train score')\n",
    "ax.plot(k_list, [val_scores[k] for k in k_list], label='Validataion score')\n",
    "ax.set_xlabel('Model order')\n",
    "ax.set_ylabel('RMSE [min]')\n",
    "# ax.set_ylim(5, 6)\n",
    "plt.tight_layout()\n",
    "ax.legend();\n",
    "fig.savefig('./output/taxis_selecting_order.png', dpi=240)"
   ],
   "metadata": {},
   "execution_count": null,
   "outputs": [
    {
     "data": {
      "image/png": "[encoded data removed]",
      "text/plain": [
       "<Figure size 600x600 with 1 Axes>"
      ]
     },
     "metadata": {
      "needs_background": "light"
     },
     "output_type": "display_data"
    }
   ]
  },
  {
   "cell_type": "markdown",
   "source": [
    "#### Selecting the order"
   ],
   "metadata": {}
  },
  {
   "cell_type": "code",
   "source": [
    "best_k = min(k_list, key=val_scores.get)\n",
    "display(Markdown(f'the optimal order is {best_k}'))"
   ],
   "metadata": {},
   "execution_count": null,
   "outputs": [
    {
     "data": {
      "text/markdown": [
       "the optimal order is 6"
      ],
      "text/plain": [
       "<IPython.core.display.Markdown object>"
      ]
     },
     "metadata": {},
     "output_type": "display_data"
    }
   ]
  },
  {
   "cell_type": "markdown",
   "source": [
    "### Retrain the model"
   ],
   "metadata": {}
  },
  {
   "cell_type": "code",
   "source": [
    "aug_func = lambda dataset: aug_func_by_order(dataset, 5)\n",
    "h, _ = train_linear(train_set, aug_func)\n",
    "train_score = eval_model_rmse(h, train_set)\n",
    "display(Markdown(f'The train score of the model is: {train_score:.2f} [min]'))\n",
    "\n",
    "test_score = eval_model_rmse(h, test_set)\n",
    "display(Markdown(f'The test score of the model is: {test_score:.2f} [min]'))"
   ],
   "metadata": {},
   "execution_count": null,
   "outputs": [
    {
     "data": {
      "text/markdown": [
       "The train score of the model is: 4.79 [min]"
      ],
      "text/plain": [
       "<IPython.core.display.Markdown object>"
      ]
     },
     "metadata": {},
     "output_type": "display_data"
    },
    {
     "data": {
      "text/markdown": [
       "The test score of the model is: 4.81 [min]"
      ],
      "text/plain": [
       "<IPython.core.display.Markdown object>"
      ]
     },
     "metadata": {},
     "output_type": "display_data"
    }
   ]
  },
  {
   "cell_type": "markdown",
   "source": [
    "## Regularization"
   ],
   "metadata": {}
  },
  {
   "cell_type": "markdown",
   "source": [
    "### Ridge"
   ],
   "metadata": {}
  },
  {
   "cell_type": "code",
   "source": [
    "from sklearn.linear_model import Ridge\n",
    "\n",
    "def train_ridge(dataset, aug_func):\n",
    "    x = aug_func(dataset)\n",
    "    y = dataset['duration'].values\n",
    "    reg = Ridge(alpha=1e-2, fit_intercept=True, normalize=True, max_iter=1e4)\n",
    "    reg.fit(x, y)\n",
    "    theta = reg.coef_\n",
    "    h = lambda dataset_: reg.predict(aug_func(dataset_))\n",
    "    return h, theta"
   ],
   "metadata": {},
   "execution_count": null,
   "outputs": []
  },
  {
   "cell_type": "code",
   "source": [
    "aug_func = lambda dataset: aug_func_by_order(dataset, 9)\n",
    "h, theta = train_ridge(train_set, aug_func)\n",
    "train_score = eval_model_rmse(h, train_set)\n",
    "display(Markdown(f'The train score of the model is: {train_score:.2f} [min]'))\n",
    "\n",
    "test_score = eval_model_rmse(h, test_set)\n",
    "display(Markdown(f'The test score of the model is: {test_score:.2f} [min]'))\n",
    "\n",
    "display(Markdown(f'The number of non zero parameters is {(theta > 1e-5).sum()}'))"
   ],
   "metadata": {},
   "execution_count": null,
   "outputs": [
    {
     "data": {
      "text/markdown": [
       "The train score of the model is: 4.82 [min]"
      ],
      "text/plain": [
       "<IPython.core.display.Markdown object>"
      ]
     },
     "metadata": {},
     "output_type": "display_data"
    },
    {
     "data": {
      "text/markdown": [
       "The test score of the model is: 4.85 [min]"
      ],
      "text/plain": [
       "<IPython.core.display.Markdown object>"
      ]
     },
     "metadata": {},
     "output_type": "display_data"
    },
    {
     "data": {
      "text/markdown": [
       "The number of non zero parameters is 196"
      ],
      "text/plain": [
       "<IPython.core.display.Markdown object>"
      ]
     },
     "metadata": {},
     "output_type": "display_data"
    }
   ]
  },
  {
   "cell_type": "markdown",
   "source": [
    "### LASSO"
   ],
   "metadata": {}
  },
  {
   "cell_type": "code",
   "source": [
    "# from sklearn.linear_model import Lasso\n",
    "\n",
    "# def train_lasso(dataset, aug_func):\n",
    "#     x = aug_func(dataset)\n",
    "#     y = dataset['duration'].values\n",
    "#     reg = Lasso(alpha=1e-5, fit_intercept=True, normalize=True, max_iter=1e4)\n",
    "#     reg.fit(x, y)\n",
    "#     theta = reg.coef_\n",
    "#     h = lambda dataset_: reg.predict(aug_func(dataset_))\n",
    "#     return h, theta"
   ],
   "metadata": {},
   "execution_count": null,
   "outputs": []
  },
  {
   "cell_type": "code",
   "source": [
    "# aug_func = lambda dataset: aug_func_by_order(dataset, 10)\n",
    "# h, theta = train_lasso(train_set, aug_func)\n",
    "# train_score = eval_model_rmse(h, train_set)\n",
    "# display(Markdown(f'The train score of the model is: {train_score:.2f} [min]'))\n",
    "\n",
    "# test_score = eval_model_rmse(h, test_set)\n",
    "# display(Markdown(f'The test score of the model is: {test_score:.2f} [min]'))\n",
    "\n",
    "# display(Markdown(f'The number of non zero parameters is {(theta > 1e-5).sum()}'))"
   ],
   "metadata": {},
   "execution_count": null,
   "outputs": []
  },
  {
   "cell_type": "code",
   "source": [],
   "metadata": {},
   "execution_count": null,
   "outputs": []
  }
 ],
 "metadata": {
  "kernalspec": {
   "display_name": "Python 3",
   "language": "python",
   "name": "python3"
  },
  "gatsby_data": {
   "make_html": true,
   "make_public": true
  }
 },
 "nbformat": 4,
 "nbformat_minor": 2
}
