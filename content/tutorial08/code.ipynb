{
 "cells": [
  {
   "cell_type": "markdown",
   "source": [
    "<a href=\"/assets/tutorial08_code.ipynb\" class=\"link-button\">Download</a>\n",
    "<a href=\"https://colab.research.google.com/github/technion046195/technion046195/blob/master/content/tutorial08/code.ipynb\" target=\"_blank\">\n",
    "<img src=\"../assets/colab-badge.svg\" style=\"display:inline\"/>\n",
    "</a>\n",
    "\n",
    "<center><h1>\n",
    "תרגול 8 - שיערוך פילוג בשיטות פרמטריות וסיווג גנרטיבי\n",
    "</h1></center>"
   ],
   "metadata": {}
  },
  {
   "cell_type": "markdown",
   "source": [
    "## Setup"
   ],
   "metadata": {}
  },
  {
   "cell_type": "code",
   "source": [
    "## Importing packages\n",
    "import os # A build in package for interacting with the OS. For example to create a folder.\n",
    "import numpy as np  # Numerical package (mainly multi-dimensional arrays and linear algebra)\n",
    "import pandas as pd  # A package for working with data frames\n",
    "import matplotlib.pyplot as plt  # A plotting package\n",
    "import imageio  # A package to read and write image (is used here to save gif images)\n",
    "import tabulate  # A package from pretty printing tables\n",
    "from graphviz import Digraph  # A package for plothing graphs (of nodes and edges)\n",
    "\n",
    "## Setup matplotlib to output figures into the notebook\n",
    "## - To make the figures interactive (zoomable, tooltip, etc.) use \"\"%matplotlib notebook\" instead\n",
    "%matplotlib inline\n",
    "\n",
    "## Setting some nice matplotlib defaults\n",
    "plt.rcParams['figure.figsize'] = (4.5, 4.5)  # Set default plot's sizes\n",
    "plt.rcParams['figure.dpi'] = 120  # Set default plot's dpi (increase fonts' size)\n",
    "plt.rcParams['axes.grid'] = True  # Show grid by default in figures\n",
    "\n",
    "## Auxiliary function for prining equations, pandas tables and images in cells output\n",
    "from IPython.core.display import display, HTML, Latex, Markdown\n",
    "\n",
    "## Create output folder\n",
    "if not os.path.isdir('./output'):\n",
    "    os.mkdir('./output')"
   ],
   "metadata": {},
   "execution_count": null,
   "outputs": []
  },
  {
   "cell_type": "markdown",
   "source": [
    "## Ex 6.3"
   ],
   "metadata": {}
  },
  {
   "cell_type": "code",
   "source": [
    "x = np.array([[1, 2], [3, 2], [-2, 2], [0, -1], [0, -5]])\n",
    "y = np.array([1, 1, 2, 3, 3]) - 1\n",
    "display(x)\n",
    "display(y)"
   ],
   "metadata": {},
   "execution_count": null,
   "outputs": [
    {
     "data": {
      "text/plain": [
       "array([[ 1,  2],\n",
       "       [ 3,  2],\n",
       "       [-2,  2],\n",
       "       [ 0, -1],\n",
       "       [ 0, -5]])"
      ]
     },
     "metadata": {},
     "output_type": "display_data"
    },
    {
     "data": {
      "text/plain": [
       "array([0, 0, 1, 2, 2])"
      ]
     },
     "metadata": {},
     "output_type": "display_data"
    }
   ]
  },
  {
   "cell_type": "code",
   "source": [
    "## Prepare figure and plotting counters\n",
    "colors = plt.rcParams['axes.prop_cycle'].by_key()['color'][:3]\n",
    "\n",
    "fig, ax = plt.subplots(figsize=(5, 5))\n",
    "\n",
    "plt.plot(x[y==0, 0], x[y==0, 1], 'o', ms=10, color=colors[0], label='y=1')\n",
    "plt.plot(x[y==1, 0], x[y==1, 1], 'o', ms=10, color=colors[1], label='y=2')\n",
    "plt.plot(x[y==2, 0], x[y==2, 1], 'o', ms=10, color=colors[2], label='y=3')\n",
    "\n",
    "ax.axis('equal')\n",
    "ax.set_xlim(-6, 6)\n",
    "ax.set_ylim(-6, 6)\n",
    "ax.set_xlabel('$x_1$')\n",
    "ax.set_ylabel('$x_2$')\n",
    "ax.legend(loc='lower right')\n",
    "\n",
    "fig.savefig('./output/ex_6_3_dataset.png')"
   ],
   "metadata": {},
   "execution_count": null,
   "outputs": [
    {
     "data": {
      "image/png": "[encoded data removed]",
      "text/plain": [
       "<Figure size 600x600 with 1 Axes>"
      ]
     },
     "metadata": {
      "needs_background": "light"
     },
     "output_type": "display_data"
    }
   ]
  },
  {
   "cell_type": "code",
   "source": [
    "py = np.array([np.mean(y==i) for i in range(3)])\n",
    "display(py)"
   ],
   "metadata": {},
   "execution_count": null,
   "outputs": [
    {
     "data": {
      "text/plain": [
       "array([0.4, 0.2, 0.4])"
      ]
     },
     "metadata": {},
     "output_type": "display_data"
    }
   ]
  },
  {
   "cell_type": "code",
   "source": [
    "mu = np.stack([np.mean(x[y==i], axis=0) for i in range(3)])\n",
    "display(mu)"
   ],
   "metadata": {},
   "execution_count": null,
   "outputs": [
    {
     "data": {
      "text/plain": [
       "array([[ 2.,  2.],\n",
       "       [-2.,  2.],\n",
       "       [ 0., -3.]])"
      ]
     },
     "metadata": {},
     "output_type": "display_data"
    }
   ]
  },
  {
   "cell_type": "code",
   "source": [
    "x_tilde = x - mu[y]\n",
    "display(x_tilde)\n",
    "\n",
    "sigma = x_tilde.T @ x_tilde / len(x)\n",
    "display(sigma)\n",
    "\n",
    "sigma_inv = np.linalg.inv(sigma)\n",
    "display(sigma_inv)"
   ],
   "metadata": {},
   "execution_count": null,
   "outputs": [
    {
     "data": {
      "text/plain": [
       "array([[-1.,  0.],\n",
       "       [ 1.,  0.],\n",
       "       [ 0.,  0.],\n",
       "       [ 0.,  2.],\n",
       "       [ 0., -2.]])"
      ]
     },
     "metadata": {},
     "output_type": "display_data"
    },
    {
     "data": {
      "text/plain": [
       "array([[0.4, 0. ],\n",
       "       [0. , 1.6]])"
      ]
     },
     "metadata": {},
     "output_type": "display_data"
    },
    {
     "data": {
      "text/plain": [
       "array([[2.5  , 0.   ],\n",
       "       [0.   , 0.625]])"
      ]
     },
     "metadata": {},
     "output_type": "display_data"
    }
   ]
  },
  {
   "cell_type": "code",
   "source": [
    "a12 = sigma_inv @ (mu[0]-mu[1])\n",
    "a13 = sigma_inv @ (mu[0]-mu[2])\n",
    "a23 = sigma_inv @ (mu[1]-mu[2])\n",
    "\n",
    "display(a12)\n",
    "display(a13)\n",
    "display(a23)\n",
    "\n",
    "b12 = 0.5 * (mu[1] @ sigma_inv @ mu[1] - mu[0] @ sigma_inv @ mu[0]) + np.log(py[0] / py[1])\n",
    "b13 = 0.5 * (mu[2] @ sigma_inv @ mu[2] - mu[0] @ sigma_inv @ mu[0]) + np.log(py[0] / py[2])\n",
    "b23 = 0.5 * (mu[2] @ sigma_inv @ mu[2] - mu[1] @ sigma_inv @ mu[1]) + np.log(py[1] / py[2])\n",
    "\n",
    "display(b12 - np.log(py[0] / py[1]))\n",
    "display(b13 - np.log(py[0] / py[2]))\n",
    "display(b23 - np.log(py[1] / py[2]))"
   ],
   "metadata": {},
   "execution_count": null,
   "outputs": [
    {
     "data": {
      "text/plain": [
       "array([10.,  0.])"
      ]
     },
     "metadata": {},
     "output_type": "display_data"
    },
    {
     "data": {
      "text/plain": [
       "array([5.   , 3.125])"
      ]
     },
     "metadata": {},
     "output_type": "display_data"
    },
    {
     "data": {
      "text/plain": [
       "array([-5.   ,  3.125])"
      ]
     },
     "metadata": {},
     "output_type": "display_data"
    },
    {
     "data": {
      "text/plain": [
       "0.0"
      ]
     },
     "metadata": {},
     "output_type": "display_data"
    },
    {
     "data": {
      "text/plain": [
       "-3.4375"
      ]
     },
     "metadata": {},
     "output_type": "display_data"
    },
    {
     "data": {
      "text/plain": [
       "-3.4375"
      ]
     },
     "metadata": {},
     "output_type": "display_data"
    }
   ]
  },
  {
   "cell_type": "code",
   "source": [
    "## Prepare figure and plotting counters\n",
    "colors = plt.rcParams['axes.prop_cycle'].by_key()['color'][:3]\n",
    "\n",
    "fig, ax = plt.subplots(figsize=(5, 5))\n",
    "\n",
    "tmp_mat = np.array([[0, 1], [-1, 0]])\n",
    "\n",
    "a12_unit = a12 / np.linalg.norm(a12)\n",
    "a13_unit = a13 / np.linalg.norm(a13)\n",
    "a23_unit = a23 / np.linalg.norm(a23)\n",
    "\n",
    "a12_perp = tmp_mat @ a12_unit\n",
    "a13_perp = tmp_mat @ a13_unit\n",
    "a23_perp = tmp_mat @ a23_unit\n",
    "\n",
    "a12_center = -(a12_unit * b12 / np.linalg.norm(a12))\n",
    "a13_center = -(a13_unit * b13 / np.linalg.norm(a13))\n",
    "a23_center = -(a23_unit * b23 / np.linalg.norm(a23))\n",
    "\n",
    "a12_left = a12_center + a12_perp * 100\n",
    "a13_left = a13_center + a13_perp * 100\n",
    "a23_left = a23_center + a23_perp * 100\n",
    "\n",
    "a12_right = a12_center - a12_perp * 100\n",
    "a13_right = a13_center - a13_perp * 100\n",
    "a23_right = a23_center - a23_perp * 100\n",
    "\n",
    "center = -np.linalg.inv(np.stack((a12, a13))) @ np.array((b12, b13))\n",
    "\n",
    "l12 = a12_center[None, :] + np.stack((a12_left, a12_right))\n",
    "l13 = a12_center[None, :] + np.stack((a13_left, a13_right))\n",
    "l23 = a12_center[None, :] + np.stack((a23_left, a23_right))\n",
    "\n",
    "plt.plot(l12[:, 0], l12[:, 1], '--k', label='1-2', alpha=0.5)\n",
    "plt.plot(l13[:, 0], l13[:, 1], '-.k', label='1-3', alpha=0.5)\n",
    "plt.plot(l23[:, 0], l23[:, 1], ':k', label='2-3', alpha=0.5)\n",
    "\n",
    "plt.plot(x[y==0, 0], x[y==0, 1], 'o', ms=10, color=colors[0], label='y=1')\n",
    "plt.plot(x[y==1, 0], x[y==1, 1], 'o', ms=10, color=colors[1], label='y=2')\n",
    "plt.plot(x[y==2, 0], x[y==2, 1], 'o', ms=10, color=colors[2], label='y=3')\n",
    "\n",
    "ax.axis('equal')\n",
    "ax.set_xlim(-6, 6)\n",
    "ax.set_ylim(-6, 6)\n",
    "ax.set_xlabel('$x_1$')\n",
    "ax.set_ylabel('$x_2$')\n",
    "ax.legend(loc='lower right')\n",
    "\n",
    "ax.add_patch(plt.Polygon(np.stack((a12_right, center, a13_left)), color=colors[0], alpha=0.2))\n",
    "ax.add_patch(plt.Polygon(np.stack((a12_right, center, a23_right)), color=colors[1], alpha=0.2))\n",
    "ax.add_patch(plt.Polygon(np.stack((a13_left, center, a23_right)), color=colors[2], alpha=0.2))\n",
    "\n",
    "fig.savefig('./output/ex_6_3_classification.png')"
   ],
   "metadata": {},
   "execution_count": null,
   "outputs": [
    {
     "data": {
      "image/png": "[encoded data removed]",
      "text/plain": [
       "<Figure size 600x600 with 1 Axes>"
      ]
     },
     "metadata": {
      "needs_background": "light"
     },
     "output_type": "display_data"
    }
   ]
  }
 ],
 "metadata": {
  "kernelspec": {
   "display_name": "Python 3",
   "language": "python",
   "name": "python3"
  }
 },
 "nbformat": 4,
 "nbformat_minor": 2
}
