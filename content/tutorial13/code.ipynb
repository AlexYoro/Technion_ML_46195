{
 "cells": [
  {
   "cell_type": "markdown",
   "source": [
    "<a href=\"/assets/tutorial13_code.ipynb\" class=\"link-button\">Download</a>\n",
    "<a href=\"https://colab.research.google.com/github/technion046195/technion046195/blob/master/content/tutorial13/code.ipynb\" target=\"_blank\">\n",
    "<img src=\"../assets/colab-badge.svg\" style=\"display:inline\"/>\n",
    "</a>\n",
    "\n",
    "<center><h1>\n",
    "תרגול 13 - PCA and K-Means \n",
    "</h1></center>"
   ],
   "metadata": {}
  },
  {
   "cell_type": "markdown",
   "source": [
    "## Setup"
   ],
   "metadata": {}
  },
  {
   "cell_type": "code",
   "source": [
    "## Importing packages\n",
    "import os # A build in package for interacting with the OS. For example to create a folder.\n",
    "import numpy as np  # Numerical package (mainly multi-dimensional arrays and linear algebra)\n",
    "import pandas as pd  # A package for working with data frames\n",
    "import matplotlib.pyplot as plt  # A plotting package\n",
    "import imageio  # A package to read and write image (is used here to save gif images)\n",
    "import tabulate  # A package from pretty printing tables\n",
    "from graphviz import Digraph  # A package for plothing graphs (of nodes and edges)\n",
    "\n",
    "## Setup matplotlib to output figures into the notebook\n",
    "## - To make the figures interactive (zoomable, tooltip, etc.) use \"\"%matplotlib notebook\" instead\n",
    "%matplotlib inline\n",
    "\n",
    "## Setting some nice matplotlib defaults\n",
    "plt.rcParams['figure.figsize'] = (4.5, 4.5)  # Set default plot's sizes\n",
    "plt.rcParams['figure.dpi'] = 120  # Set default plot's dpi (increase fonts' size)\n",
    "plt.rcParams['axes.grid'] = True  # Show grid by default in figures\n",
    "\n",
    "## Auxiliary function for prining equations, pandas tables and images in cells output\n",
    "from IPython.core.display import display, HTML, Latex, Markdown\n",
    "\n",
    "## Create output folder\n",
    "if not os.path.isdir('./output'):\n",
    "    os.mkdir('./output')"
   ],
   "metadata": {},
   "execution_count": null,
   "outputs": []
  },
  {
   "cell_type": "markdown",
   "source": [
    "## Ex 13.2"
   ],
   "metadata": {}
  },
  {
   "cell_type": "markdown",
   "source": [
    "Plotting data"
   ],
   "metadata": {}
  },
  {
   "cell_type": "code",
   "source": [
    "fig, ax = plt.subplots(figsize=(5, 5))\n",
    "ax.set_xlabel('$x_1$')\n",
    "ax.set_ylabel('$x_2$')\n",
    "ax.set_xlim(-10, 10)\n",
    "ax.set_ylim(-10, 10)\n",
    "ax.xaxis.set_ticks(np.arange(-10, 10 + 1e-6, 2))\n",
    "ax.yaxis.set_ticks(np.arange(-10, 10 + 1e-6, 2))\n",
    "ax.set_title('Data')\n",
    "\n",
    "rand_gen = np.random.RandomState(1)\n",
    "\n",
    "\n",
    "pa1 = ax.plot(-6, 6, 'o', ms=10, zorder=1, color='k')[0]\n",
    "ax.text(-6, 6 + 1, '$A$', ha='center', va='bottom')\n",
    "ax.text(-6, 6 - 1, '$n$\\npoints', ha='center', va='top' ,fontsize=8)\n",
    "\n",
    "pb1 = ax.plot(6, 6, 'o', ms=15, zorder=1, color='k')[0]\n",
    "ax.text(6, 6 + 1, '$B$', ha='center', va='bottom')\n",
    "ax.text(6, 6 - 1, '$\\\\alpha n$\\npoints', ha='center', va='top' ,fontsize=8)\n",
    "\n",
    "pc1 = ax.plot(8, 6, 'o', ms=15, zorder=1, color='k')[0]\n",
    "ax.text(8, 6 + 1, '$C$', ha='center', va='bottom')\n",
    "ax.text(8, 6 - 1, '$\\\\alpha n$\\npoints', ha='center', va='top' ,fontsize=8)\n",
    "\n",
    "pd1 = ax.plot(1, -6, 'o', ms=15, zorder=1, color='k')[0]\n",
    "ax.text(1, -6 + 1, '$D$', ha='center', va='bottom')\n",
    "ax.text(1, -6 - 1, '$\\\\alpha n$\\npoints', ha='center', va='top' ,fontsize=8)\n",
    "\n",
    "colors = plt.rcParams['axes.prop_cycle'].by_key()['color'][:3]\n",
    "c1 = ax.plot([], [], 'o', ms=7, zorder = 2, color=colors[0], mec='black')[0]\n",
    "c2 = ax.plot([], [], 'o', ms=7, zorder = 2, color=colors[1], mec='black')[0]\n",
    "c3 = ax.plot([], [], 'o', ms=7, zorder = 2, color=colors[2], mec='black')[0]\n",
    "\n",
    "fig.savefig('./output/ex_13_2_dataset.png', dpi=240)"
   ],
   "metadata": {},
   "execution_count": null,
   "outputs": [
    {
     "data": {
      "image/png": "[encoded data removed]",
      "text/plain": [
       "<Figure size 600x600 with 1 Axes>"
      ]
     },
     "metadata": {
      "needs_background": "light"
     },
     "output_type": "display_data"
    }
   ]
  },
  {
   "cell_type": "markdown",
   "source": [
    "##### Centers at A, B & C"
   ],
   "metadata": {}
  },
  {
   "cell_type": "code",
   "source": [
    "ax.set_title('Step 0a')\n",
    "\n",
    "c1.set_data(-6, 6)\n",
    "c2.set_data(6, 6)\n",
    "c3.set_data(8, 6)\n",
    "\n",
    "pa1.set_color(colors[0])\n",
    "pb1.set_color(colors[1])\n",
    "pc1.set_color(colors[2])\n",
    "pd1.set_color(colors[1])\n",
    "\n",
    "fig.savefig('./output/ex_13_2_a_case_1_0a.png', dpi=240)"
   ],
   "metadata": {},
   "execution_count": null,
   "outputs": []
  },
  {
   "cell_type": "code",
   "source": [
    "ax.set_title('Step 0b')\n",
    "\n",
    "c2.set_data(3.5, 0)\n",
    "\n",
    "fig.savefig('./output/ex_13_2_a_case_1_0b.png', dpi=240)"
   ],
   "metadata": {},
   "execution_count": null,
   "outputs": []
  },
  {
   "cell_type": "code",
   "source": [
    "ax.set_title('Step 1a')\n",
    "\n",
    "pb1.set_color(colors[2])\n",
    "\n",
    "fig.savefig('./output/ex_13_2_a_case_1_1a.png', dpi=240)"
   ],
   "metadata": {},
   "execution_count": null,
   "outputs": []
  },
  {
   "cell_type": "code",
   "source": [
    "ax.set_title('Step 1b')\n",
    "\n",
    "c2.set_data(1, -6)\n",
    "c3.set_data(7, 6)\n",
    "\n",
    "fig.savefig('./output/ex_13_2_a_case_1_1b.png', dpi=240)"
   ],
   "metadata": {},
   "execution_count": null,
   "outputs": []
  },
  {
   "cell_type": "markdown",
   "source": [
    "##### Center at A, B & D"
   ],
   "metadata": {}
  },
  {
   "cell_type": "code",
   "source": [
    "ax.set_title('Step 0a')\n",
    "\n",
    "c1.set_data(-6, 6)\n",
    "c2.set_data(6, 6)\n",
    "c3.set_data(1, -6)\n",
    "\n",
    "pa1.set_color(colors[0])\n",
    "pb1.set_color(colors[1])\n",
    "pc1.set_color(colors[1])\n",
    "pd1.set_color(colors[2])\n",
    "\n",
    "fig.savefig('./output/ex_13_2_a_case_2_0a.png', dpi=240)"
   ],
   "metadata": {},
   "execution_count": null,
   "outputs": []
  },
  {
   "cell_type": "code",
   "source": [
    "ax.set_title('Step 0b')\n",
    "\n",
    "c2.set_data(7, 6)\n",
    "\n",
    "fig.savefig('./output/ex_13_2_a_case_2_0b.png', dpi=240)"
   ],
   "metadata": {},
   "execution_count": null,
   "outputs": []
  },
  {
   "cell_type": "markdown",
   "source": [
    "##### Centers at A, C & D "
   ],
   "metadata": {}
  },
  {
   "cell_type": "code",
   "source": [
    "ax.set_title('Step 0a')\n",
    "\n",
    "c1.set_data(-6, 6)\n",
    "c2.set_data(8, 6)\n",
    "c3.set_data(1, -6)\n",
    "\n",
    "pa1.set_color(colors[0])\n",
    "pb1.set_color(colors[1])\n",
    "pc1.set_color(colors[1])\n",
    "pd1.set_color(colors[2])\n",
    "\n",
    "fig.savefig('./output/ex_13_2_a_case_3_0a.png', dpi=240)"
   ],
   "metadata": {},
   "execution_count": null,
   "outputs": []
  },
  {
   "cell_type": "code",
   "source": [
    "ax.set_title('Step 0b')\n",
    "\n",
    "c2.set_data(7, 6)\n",
    "\n",
    "fig.savefig('./output/ex_13_2_a_case_3_0b.png', dpi=240)"
   ],
   "metadata": {},
   "execution_count": null,
   "outputs": []
  },
  {
   "cell_type": "markdown",
   "source": [
    "##### Centers at B, C & D"
   ],
   "metadata": {}
  },
  {
   "cell_type": "code",
   "source": [
    "ax.set_title('Step 0a')\n",
    "\n",
    "c1.set_data(6, 6)\n",
    "c2.set_data(8, 6)\n",
    "c3.set_data(1, -6)\n",
    "\n",
    "pa1.set_color(colors[0])\n",
    "pb1.set_color(colors[0])\n",
    "pc1.set_color(colors[1])\n",
    "pd1.set_color(colors[2])\n",
    "\n",
    "fig.savefig('./output/ex_13_2_a_case_4_0a.png', dpi=240)"
   ],
   "metadata": {},
   "execution_count": null,
   "outputs": []
  },
  {
   "cell_type": "markdown",
   "source": [
    "for $\\alpha>5$"
   ],
   "metadata": {}
  },
  {
   "cell_type": "code",
   "source": [
    "ax.set_title('Step 0b')\n",
    "\n",
    "c1.set_data(5, 6)\n",
    "\n",
    "fig.savefig('./output/ex_13_2_a_case_4_1_0b.png', dpi=240)"
   ],
   "metadata": {},
   "execution_count": null,
   "outputs": []
  },
  {
   "cell_type": "markdown",
   "source": [
    "for $\\alpha<5$"
   ],
   "metadata": {}
  },
  {
   "cell_type": "code",
   "source": [
    "ax.set_title('Step 0b')\n",
    "\n",
    "c1.set_data(2, 6)\n",
    "\n",
    "fig.savefig('./output/ex_13_2_a_case_4_2_0b.png', dpi=240)"
   ],
   "metadata": {},
   "execution_count": null,
   "outputs": []
  },
  {
   "cell_type": "code",
   "source": [
    "ax.set_title('Step 1a')\n",
    "\n",
    "pb1.set_color(colors[1])\n",
    "\n",
    "fig.savefig('./output/ex_13_2_a_case_4_2_1a.png', dpi=240)"
   ],
   "metadata": {},
   "execution_count": null,
   "outputs": []
  },
  {
   "cell_type": "code",
   "source": [
    "ax.set_title('Step 1b')\n",
    "\n",
    "c1.set_data(-6, 6)\n",
    "c2.set_data(7, 6)\n",
    "\n",
    "fig.savefig('./output/ex_13_2_a_case_4_2_1b.png', dpi=240)"
   ],
   "metadata": {},
   "execution_count": null,
   "outputs": []
  },
  {
   "cell_type": "code",
   "source": [],
   "metadata": {},
   "execution_count": null,
   "outputs": []
  }
 ],
 "metadata": {
  "kernelspec": {
   "display_name": "Python 3",
   "language": "python",
   "name": "python3"
  }
 },
 "nbformat": 4,
 "nbformat_minor": 2
}
