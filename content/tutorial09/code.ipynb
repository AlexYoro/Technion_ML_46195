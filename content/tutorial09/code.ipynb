{
 "cells": [
  {
   "cell_type": "markdown",
   "source": [
    "<a href=\"/assets/tutorial09_code.ipynb\" class=\"link-button\">Download</a>\n",
    "<a href=\"https://colab.research.google.com/github/technion046195/technion046195/blob/master/content/tutorial09/code.ipynb\" target=\"_blank\">\n",
    "<img src=\"../assets/colab-badge.svg\" style=\"display:inline\"/>\n",
    "</a>\n",
    "\n",
    "<center><h1>\n",
    "תרגול 9 - CNN ואתחול \n",
    "</h1></center>"
   ],
   "metadata": {}
  },
  {
   "cell_type": "markdown",
   "source": [
    "## Setup"
   ],
   "metadata": {}
  },
  {
   "cell_type": "code",
   "source": [
    "## Importing packages\n",
    "import os # A build in package for interacting with the OS. For example to create a folder.\n",
    "import numpy as np  # Numerical package (mainly multi-dimensional arrays and linear algebra)\n",
    "import pandas as pd  # A package for working with data frames\n",
    "import matplotlib.pyplot as plt  # A plotting package\n",
    "import imageio  # A package to read and write image (is used here to save gif images)\n",
    "import tabulate  # A package from pretty printing tables\n",
    "from graphviz import Digraph  # A package for plothing graphs (of nodes and edges)\n",
    "\n",
    "## Setup matplotlib to output figures into the notebook\n",
    "## - To make the figures interactive (zoomable, tooltip, etc.) use \"\"%matplotlib notebook\" instead\n",
    "%matplotlib inline\n",
    "\n",
    "## Setting some nice matplotlib defaults\n",
    "plt.rcParams['figure.figsize'] = (4.5, 4.5)  # Set default plot's sizes\n",
    "plt.rcParams['figure.dpi'] = 120  # Set default plot's dpi (increase fonts' size)\n",
    "plt.rcParams['axes.grid'] = True  # Show grid by default in figures\n",
    "\n",
    "## Auxiliary function for prining equations, pandas tables and images in cells output\n",
    "from IPython.core.display import display, HTML, Latex, Markdown\n",
    "\n",
    "## Create output folder\n",
    "if not os.path.isdir('./output'):\n",
    "    os.mkdir('./output')"
   ],
   "metadata": {},
   "execution_count": null,
   "outputs": []
  },
  {
   "cell_type": "markdown",
   "source": [
    "## Initilization"
   ],
   "metadata": {}
  },
  {
   "cell_type": "markdown",
   "source": [
    "### Exploding Gradients"
   ],
   "metadata": {}
  },
  {
   "cell_type": "code",
   "source": [
    "rang_gen = np.random.RandomState(2)\n",
    "\n",
    "width = 5\n",
    "\n",
    "weights = []\n",
    "for _ in range(4):\n",
    "    weights.append(10 * rang_gen.randn(width, width))\n",
    "weights.append(rang_gen.randn(width, 1))\n",
    "\n",
    "z = np.array(rang_gen.randn(width))\n",
    "\n",
    "print(f'x=[' + ','.join([f'{val:.2f}' for val in z]) + r']^{\\top}')\n",
    "np.set_printoptions(precision=2)\n",
    "for i, w in enumerate(weights):\n",
    "    z = np.maximum(z @ w, 0)\n",
    "#     print(z.mean())\n",
    "    print(f'z_{i+1}=[' + ','.join([f'{val:.2f}' for val in z]) + r']^{\\top}')"
   ],
   "metadata": {},
   "execution_count": null,
   "outputs": [
    {
     "name": "stdout",
     "output_type": "stream",
     "text": [
      "x=[2.59,1.84,0.44,-0.72,-0.58]^{\\top}\n",
      "z_1=[0.00,18.93,0.00,29.21,0.00]^{\\top}\n",
      "z_2=[0.00,647.54,0.00,527.02,498.82]^{\\top}\n",
      "z_3=[5263.19,0.00,0.00,4494.22,0.00]^{\\top}\n",
      "z_4=[100556.40,0.00,4364.23,99805.43,0.00]^{\\top}\n",
      "z_5=[155078.15]^{\\top}\n"
     ]
    }
   ]
  },
  {
   "cell_type": "markdown",
   "source": [
    "### Vanishing Gradients"
   ],
   "metadata": {}
  },
  {
   "cell_type": "code",
   "source": [
    "rang_gen = np.random.RandomState(2)\n",
    "weights = []\n",
    "for _ in range(4):\n",
    "    weights.append(0.1 * rang_gen.randn(width, width))\n",
    "weights.append(rang_gen.randn(width, 1))\n",
    "\n",
    "z = np.array(rang_gen.randn(width))\n",
    "\n",
    "print(f'x=[' + ','.join([f'{val:.8f}' for val in z]) + r']^{\\top}')\n",
    "np.set_printoptions(precision=2)\n",
    "for i, w in enumerate(weights):\n",
    "    z = np.maximum(z @ w, 0)\n",
    "#     print(z.mean())\n",
    "    print(f'z_{i+1}=[' + ','.join([f'{val:.5f}' for val in z]) + r']^{\\top}')"
   ],
   "metadata": {},
   "execution_count": null,
   "outputs": [
    {
     "name": "stdout",
     "output_type": "stream",
     "text": [
      "x=[2.58529487,1.83533272,0.44068987,-0.71925384,-0.58341459]^{\\top}\n",
      "z_1=[0.00000,0.18927,0.00000,0.29210,0.00000]^{\\top}\n",
      "z_2=[0.00000,0.06475,0.00000,0.05270,0.04988]^{\\top}\n",
      "z_3=[0.00526,0.00000,0.00000,0.00449,0.00000]^{\\top}\n",
      "z_4=[0.00101,0.00000,0.00004,0.00100,0.00000]^{\\top}\n",
      "z_5=[0.00155]^{\\top}\n"
     ]
    }
   ]
  }
 ],
 "metadata": {
  "kernelspec": {
   "display_name": "Python 3",
   "language": "python",
   "name": "python3"
  }
 },
 "nbformat": 4,
 "nbformat_minor": 2
}
