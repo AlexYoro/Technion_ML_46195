{
 "cells": [
  {
   "cell_type": "markdown",
   "source": [
    "# Cleaning Up the Ultra-Trail du Mont-Blanc (UTMB) Dataset\n",
    "The inspiration for using this dataset came from the following Kaggle datasets:\n",
    "- [Dataset: Ultra-Trail du Mont-Blanc 2003-2017](https://www.kaggle.com/ceruleansea/ultratrail-du-montblanc-20032017)\n",
    "\n",
    "The original dataset taken from here: <https://utmbmontblanc.com/en/page/349/results.html>"
   ],
   "metadata": {}
  },
  {
   "cell_type": "markdown",
   "source": [
    "## Importing Packages"
   ],
   "metadata": {}
  },
  {
   "cell_type": "code",
   "source": [
    "import numpy as np\n",
    "import pandas as pd"
   ],
   "metadata": {},
   "execution_count": null,
   "outputs": []
  },
  {
   "cell_type": "markdown",
   "source": [
    "## Deffining Parameters"
   ],
   "metadata": {}
  },
  {
   "cell_type": "code",
   "source": [
    "years = [2004, 2005, 2006, 2007, 2008, 2009, 2011, 2012, 2013, 2014, 2015, 2016, 2017, 2018]\n",
    "age_group_mapping = {\n",
    "    'ES': 0,\n",
    "    'SE': 1,\n",
    "    'V1': 2,\n",
    "    'V2': 3,\n",
    "    'V3': 4,\n",
    "    'V4': 5,\n",
    "    'V5': 6,\n",
    "}"
   ],
   "metadata": {},
   "execution_count": null,
   "outputs": []
  },
  {
   "cell_type": "markdown",
   "source": [
    "## Downloading Dataset"
   ],
   "metadata": {}
  },
  {
   "cell_type": "markdown",
   "source": [
    "Manually download the web pages containing the dataset as a table. Go to <https://utmbmontblanc.com/en/page/349/results.html> select each of the years, right click the web page and select \"save as...\". Save the pages in \"../../static/datasets/original/utmb_pages/{year}.html\""
   ],
   "metadata": {}
  },
  {
   "cell_type": "code",
   "source": [
    "data_pages = '../../static/datasets/original/utmb_pages/{}.html'\n",
    "dataset_file = '../../static/datasets/utmb.csv'"
   ],
   "metadata": {},
   "execution_count": null,
   "outputs": []
  },
  {
   "cell_type": "markdown",
   "source": [
    "## Loading the Datset"
   ],
   "metadata": {}
  },
  {
   "cell_type": "code",
   "source": [
    "\n",
    "\n",
    "datasets_list = []\n",
    "for year in years:\n",
    "    dataset_tmp = pd.read_html(data_pages.format(year), attrs = {'id': 'tabPass'})[0]\n",
    "    dataset_tmp = pd.DataFrame({'Rank': dataset_tmp[0],\n",
    "                                'Name': dataset_tmp[2],\n",
    "                                'Category': dataset_tmp[3],\n",
    "                                'Year': year,\n",
    "                                'Time': dataset_tmp[len(dataset_tmp.columns) - 1],\n",
    "                                })\n",
    "    dataset_tmp = dataset_tmp.dropna(axis=0)\n",
    "    datasets_list.append(dataset_tmp)\n",
    "\n",
    "full_dataset = pd.concat(datasets_list, axis=0, ignore_index=True)"
   ],
   "metadata": {},
   "execution_count": null,
   "outputs": []
  },
  {
   "cell_type": "markdown",
   "source": [
    "## Displaying the first 10 rows of the dataset"
   ],
   "metadata": {}
  },
  {
   "cell_type": "code",
   "source": [
    "print(len(full_dataset))\n",
    "full_dataset.head(10)"
   ],
   "metadata": {},
   "execution_count": null,
   "outputs": [
    {
     "name": "stdout",
     "output_type": "stream",
     "text": [
      "19516\n"
     ]
    },
    {
     "data": {
      "text/html": [
       "<div>\n",
       "<style scoped>\n",
       "    .dataframe tbody tr th:only-of-type {\n",
       "        vertical-align: middle;\n",
       "    }\n",
       "\n",
       "    .dataframe tbody tr th {\n",
       "        vertical-align: top;\n",
       "    }\n",
       "\n",
       "    .dataframe thead th {\n",
       "        text-align: right;\n",
       "    }\n",
       "</style>\n",
       "<table border=\"1\" class=\"dataframe\">\n",
       "  <thead>\n",
       "    <tr style=\"text-align: right;\">\n",
       "      <th></th>\n",
       "      <th>Rank</th>\n",
       "      <th>Name</th>\n",
       "      <th>Category</th>\n",
       "      <th>Year</th>\n",
       "      <th>Time</th>\n",
       "    </tr>\n",
       "  </thead>\n",
       "  <tbody>\n",
       "    <tr>\n",
       "      <th>0</th>\n",
       "      <td>1</td>\n",
       "      <td>DELEBARRE Vincent</td>\n",
       "      <td>SE H</td>\n",
       "      <td>2004</td>\n",
       "      <td>21:06:18</td>\n",
       "    </tr>\n",
       "    <tr>\n",
       "      <th>1</th>\n",
       "      <td>2</td>\n",
       "      <td>SHERPA Dachhiri-Dawa</td>\n",
       "      <td>SE H</td>\n",
       "      <td>2004</td>\n",
       "      <td>23:02:28</td>\n",
       "    </tr>\n",
       "    <tr>\n",
       "      <th>2</th>\n",
       "      <td>3</td>\n",
       "      <td>PACHE Jean Claude</td>\n",
       "      <td>SE H</td>\n",
       "      <td>2004</td>\n",
       "      <td>23:40:08</td>\n",
       "    </tr>\n",
       "    <tr>\n",
       "      <th>3</th>\n",
       "      <td>4</td>\n",
       "      <td>FAVRE-FELIX Lionel</td>\n",
       "      <td>SE H</td>\n",
       "      <td>2004</td>\n",
       "      <td>23:50:36</td>\n",
       "    </tr>\n",
       "    <tr>\n",
       "      <th>4</th>\n",
       "      <td>5</td>\n",
       "      <td>NEMETH Csaba</td>\n",
       "      <td>SE H</td>\n",
       "      <td>2004</td>\n",
       "      <td>23:54:09</td>\n",
       "    </tr>\n",
       "    <tr>\n",
       "      <th>5</th>\n",
       "      <td>6</td>\n",
       "      <td>CERCUEIL Michel</td>\n",
       "      <td>SE H</td>\n",
       "      <td>2004</td>\n",
       "      <td>24:46:26</td>\n",
       "    </tr>\n",
       "    <tr>\n",
       "      <th>6</th>\n",
       "      <td>7</td>\n",
       "      <td>VERDIER Philippe</td>\n",
       "      <td>V1 H</td>\n",
       "      <td>2004</td>\n",
       "      <td>24:46:28</td>\n",
       "    </tr>\n",
       "    <tr>\n",
       "      <th>7</th>\n",
       "      <td>8</td>\n",
       "      <td>FATTON Christian</td>\n",
       "      <td>V1 H</td>\n",
       "      <td>2004</td>\n",
       "      <td>25:20:30</td>\n",
       "    </tr>\n",
       "    <tr>\n",
       "      <th>8</th>\n",
       "      <td>9</td>\n",
       "      <td>SCHWEIZER Werner</td>\n",
       "      <td>V3 H</td>\n",
       "      <td>2004</td>\n",
       "      <td>25:24:22</td>\n",
       "    </tr>\n",
       "    <tr>\n",
       "      <th>9</th>\n",
       "      <td>10</td>\n",
       "      <td>TECHER Henri</td>\n",
       "      <td>V1 H</td>\n",
       "      <td>2004</td>\n",
       "      <td>25:36:29</td>\n",
       "    </tr>\n",
       "  </tbody>\n",
       "</table>\n",
       "</div>"
      ],
      "text/plain": [
       "   Rank                  Name Category  Year      Time\n",
       "0     1     DELEBARRE Vincent     SE H  2004  21:06:18\n",
       "1     2  SHERPA Dachhiri-Dawa     SE H  2004  23:02:28\n",
       "2     3     PACHE Jean Claude     SE H  2004  23:40:08\n",
       "3     4    FAVRE-FELIX Lionel     SE H  2004  23:50:36\n",
       "4     5          NEMETH Csaba     SE H  2004  23:54:09\n",
       "5     6       CERCUEIL Michel     SE H  2004  24:46:26\n",
       "6     7      VERDIER Philippe     V1 H  2004  24:46:28\n",
       "7     8      FATTON Christian     V1 H  2004  25:20:30\n",
       "8     9      SCHWEIZER Werner     V3 H  2004  25:24:22\n",
       "9    10          TECHER Henri     V1 H  2004  25:36:29"
      ]
     },
     "execution_count": 5,
     "metadata": {},
     "output_type": "execute_result"
    }
   ]
  },
  {
   "cell_type": "markdown",
   "source": [
    "## Cleaning up the data"
   ],
   "metadata": {}
  },
  {
   "cell_type": "code",
   "source": [
    "dataset = full_dataset.copy()  # Creat a copy of the data\n",
    "\n",
    "## convert time from string to float-hours\n",
    "dataset['Result'] = pd.to_timedelta(dataset['Time']).astype(int) / 1e9 / 60 / 60\n",
    "dataset['Age Group'] = dataset['Category'].apply(lambda x: age_group_mapping[x[:2]])\n",
    "dataset['Gender'] = dataset['Category'].apply(lambda x: int(x[-1:] == 'F'))\n",
    "\n",
    "## Remove unneccesery fields\n",
    "dataset.pop('Category')\n",
    "dataset.pop('Time')\n",
    "\n",
    "## Print first 10 rows\n",
    "dataset.head(10)"
   ],
   "metadata": {},
   "execution_count": null,
   "outputs": [
    {
     "data": {
      "text/html": [
       "<div>\n",
       "<style scoped>\n",
       "    .dataframe tbody tr th:only-of-type {\n",
       "        vertical-align: middle;\n",
       "    }\n",
       "\n",
       "    .dataframe tbody tr th {\n",
       "        vertical-align: top;\n",
       "    }\n",
       "\n",
       "    .dataframe thead th {\n",
       "        text-align: right;\n",
       "    }\n",
       "</style>\n",
       "<table border=\"1\" class=\"dataframe\">\n",
       "  <thead>\n",
       "    <tr style=\"text-align: right;\">\n",
       "      <th></th>\n",
       "      <th>Rank</th>\n",
       "      <th>Name</th>\n",
       "      <th>Year</th>\n",
       "      <th>Result</th>\n",
       "      <th>Age Group</th>\n",
       "      <th>Gender</th>\n",
       "    </tr>\n",
       "  </thead>\n",
       "  <tbody>\n",
       "    <tr>\n",
       "      <th>0</th>\n",
       "      <td>1</td>\n",
       "      <td>DELEBARRE Vincent</td>\n",
       "      <td>2004</td>\n",
       "      <td>21.105000</td>\n",
       "      <td>1</td>\n",
       "      <td>0</td>\n",
       "    </tr>\n",
       "    <tr>\n",
       "      <th>1</th>\n",
       "      <td>2</td>\n",
       "      <td>SHERPA Dachhiri-Dawa</td>\n",
       "      <td>2004</td>\n",
       "      <td>23.041111</td>\n",
       "      <td>1</td>\n",
       "      <td>0</td>\n",
       "    </tr>\n",
       "    <tr>\n",
       "      <th>2</th>\n",
       "      <td>3</td>\n",
       "      <td>PACHE Jean Claude</td>\n",
       "      <td>2004</td>\n",
       "      <td>23.668889</td>\n",
       "      <td>1</td>\n",
       "      <td>0</td>\n",
       "    </tr>\n",
       "    <tr>\n",
       "      <th>3</th>\n",
       "      <td>4</td>\n",
       "      <td>FAVRE-FELIX Lionel</td>\n",
       "      <td>2004</td>\n",
       "      <td>23.843333</td>\n",
       "      <td>1</td>\n",
       "      <td>0</td>\n",
       "    </tr>\n",
       "    <tr>\n",
       "      <th>4</th>\n",
       "      <td>5</td>\n",
       "      <td>NEMETH Csaba</td>\n",
       "      <td>2004</td>\n",
       "      <td>23.902500</td>\n",
       "      <td>1</td>\n",
       "      <td>0</td>\n",
       "    </tr>\n",
       "    <tr>\n",
       "      <th>5</th>\n",
       "      <td>6</td>\n",
       "      <td>CERCUEIL Michel</td>\n",
       "      <td>2004</td>\n",
       "      <td>24.773889</td>\n",
       "      <td>1</td>\n",
       "      <td>0</td>\n",
       "    </tr>\n",
       "    <tr>\n",
       "      <th>6</th>\n",
       "      <td>7</td>\n",
       "      <td>VERDIER Philippe</td>\n",
       "      <td>2004</td>\n",
       "      <td>24.774444</td>\n",
       "      <td>2</td>\n",
       "      <td>0</td>\n",
       "    </tr>\n",
       "    <tr>\n",
       "      <th>7</th>\n",
       "      <td>8</td>\n",
       "      <td>FATTON Christian</td>\n",
       "      <td>2004</td>\n",
       "      <td>25.341667</td>\n",
       "      <td>2</td>\n",
       "      <td>0</td>\n",
       "    </tr>\n",
       "    <tr>\n",
       "      <th>8</th>\n",
       "      <td>9</td>\n",
       "      <td>SCHWEIZER Werner</td>\n",
       "      <td>2004</td>\n",
       "      <td>25.406111</td>\n",
       "      <td>4</td>\n",
       "      <td>0</td>\n",
       "    </tr>\n",
       "    <tr>\n",
       "      <th>9</th>\n",
       "      <td>10</td>\n",
       "      <td>TECHER Henri</td>\n",
       "      <td>2004</td>\n",
       "      <td>25.608056</td>\n",
       "      <td>2</td>\n",
       "      <td>0</td>\n",
       "    </tr>\n",
       "  </tbody>\n",
       "</table>\n",
       "</div>"
      ],
      "text/plain": [
       "   Rank                  Name  Year     Result  Age Group  Gender\n",
       "0     1     DELEBARRE Vincent  2004  21.105000          1       0\n",
       "1     2  SHERPA Dachhiri-Dawa  2004  23.041111          1       0\n",
       "2     3     PACHE Jean Claude  2004  23.668889          1       0\n",
       "3     4    FAVRE-FELIX Lionel  2004  23.843333          1       0\n",
       "4     5          NEMETH Csaba  2004  23.902500          1       0\n",
       "5     6       CERCUEIL Michel  2004  24.773889          1       0\n",
       "6     7      VERDIER Philippe  2004  24.774444          2       0\n",
       "7     8      FATTON Christian  2004  25.341667          2       0\n",
       "8     9      SCHWEIZER Werner  2004  25.406111          4       0\n",
       "9    10          TECHER Henri  2004  25.608056          2       0"
      ]
     },
     "execution_count": 6,
     "metadata": {},
     "output_type": "execute_result"
    }
   ]
  },
  {
   "cell_type": "markdown",
   "source": [
    "## Save the clean dataset"
   ],
   "metadata": {}
  },
  {
   "cell_type": "code",
   "source": [
    "dataset.to_csv(dataset_file, index=False)"
   ],
   "metadata": {},
   "execution_count": null,
   "outputs": []
  },
  {
   "cell_type": "code",
   "source": [],
   "metadata": {},
   "execution_count": null,
   "outputs": []
  }
 ],
 "metadata": {
  "kernelspec": {
   "display_name": "Python 3",
   "language": "python",
   "name": "python3"
  }
 },
 "nbformat": 4,
 "nbformat_minor": 1
}
